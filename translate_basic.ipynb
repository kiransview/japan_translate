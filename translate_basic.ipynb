{
 "cells": [
  {
   "cell_type": "markdown",
   "id": "b3e788f3",
   "metadata": {},
   "source": [
    "### Story Translate"
   ]
  },
  {
   "cell_type": "code",
   "execution_count": 98,
   "id": "7d29dee4",
   "metadata": {},
   "outputs": [
    {
     "data": {
      "text/plain": [
       "'あるところに、 小さな町がありました。この 町は美しい自然に囲まれており、 人々は平和で\\n幸せな生活を送っていました。  \\n \\nある日、町に一人の若者が現れました。 彼の名前は太郎といい、 彼は冒険心旺盛 な若者でし\\nた。太郎は町の人々に別れを告げ、新たな旅に出ることを 決めました。  \\n \\n太郎は山々と森を通り抜け、川を渡りながら、さまざまな 場所を訪れました。 彼は知識を深\\nめ、新しい友人を作りながら、 多くの困難に立ち向かいました。 太郎は剣の使い方や魔法の\\n秘密を学び、自分自身 を成長させていきました。  \\n \\n数年が経ち、太郎は成熟した冒険者として知られるようになりました。 彼は多くの冒険を経\\n験し、魔物や困難なクエスト を乗り越えてきました。しかし、 彼の心の奥底では、故郷の町\\nと町の人々への思いが忘れられずにいました。  \\n \\nある日、太郎 は故郷の町へ戻ることを 決意しました。 彼は町の人々に驚きと喜びをもたらし\\nました。 太郎は町の青年たちに剣の技を教え、若い魔法使いたちと 共に冒険に出かけました\\n。 \\n \\n故郷の町は太郎の帰還によって 活気づき、ますます 繁栄しました。 彼は冒険者としての 名声\\nを手にしながらも、 町の一員としての 誇りを忘れませんでした。  \\n \\n太郎の物語は多くの人々に伝えられ、 彼は英雄として称えられました。 彼の冒険の旅は終わ\\nりを告げましたが、 太郎は町の人々と共に平穏な日々を過ごしました。  \\n \\nこの物語は勇気と希望を持つ若者の旅であり、 故郷と愛する人々への情熱を称えるものでし\\nた。太郎の冒険は彼自身だけでなく、 町の未来にも大きな影響を与えました。  '"
      ]
     },
     "execution_count": 98,
     "metadata": {},
     "output_type": "execute_result"
    }
   ],
   "source": [
    "import PyPDF2\n",
    "\n",
    "def read_pdf(file_path):\n",
    "    with open(file_path, 'rb') as file:\n",
    "        pdf_reader = PyPDF2.PdfReader(file)\n",
    "        num_pages = len(pdf_reader.pages)\n",
    "        text_content = ''\n",
    "\n",
    "        for page_number in range(num_pages):\n",
    "            page = pdf_reader.pages[page_number]\n",
    "            text_content += page.extract_text()\n",
    "\n",
    "        return text_content\n",
    "\n",
    "#PDF file path\n",
    "pdf_file_path = 'japan_story.pdf'\n",
    "\n",
    "#function call\n",
    "content = read_pdf(pdf_file_path)\n",
    "\n",
    "#result\n",
    "content"
   ]
  },
  {
   "cell_type": "code",
   "execution_count": null,
   "id": "fb9e605a",
   "metadata": {},
   "outputs": [],
   "source": [
    "from transformers import AutoTokenizer, AutoModelForSeq2SeqLM\n",
    "\n",
    "tokenizer = AutoTokenizer.from_pretrained(\"Helsinki-NLP/opus-mt-ja-en\")\n",
    "\n",
    "model = AutoModelForSeq2SeqLM.from_pretrained(\"Helsinki-NLP/opus-mt-ja-en\")"
   ]
  },
  {
   "cell_type": "code",
   "execution_count": 99,
   "id": "8be6a16f",
   "metadata": {},
   "outputs": [
    {
     "name": "stdout",
     "output_type": "stream",
     "text": [
      "In one place, there was a small town, surrounded by beautiful nature, and people were living a peaceful and happy life. His name was Taro, and he was a young man who decided to leave the town and go on a new trip. As he made his way through the mountains and the rivers, he put up a lot of difficulty in making new friends and learning how to use the sword and how to use it.\n"
     ]
    }
   ],
   "source": [
    "src_text = content\n",
    "translated = model.generate(**tokenizer(src_text, return_tensors=\"pt\", padding=True))\n",
    "\n",
    "for t in translated:\n",
    "    print( tokenizer.decode(t, skip_special_tokens=True) )"
   ]
  },
  {
   "cell_type": "code",
   "execution_count": 100,
   "id": "998e2bf4",
   "metadata": {},
   "outputs": [],
   "source": [
    "text = []\n",
    "text.append(content)\n",
    "text.append(content)\n",
    "text.append(content)\n",
    "text.append(content)\n",
    "text.append(content)\n",
    "text.append(content)\n",
    "text.append(content)\n",
    "text.append(content)\n",
    "text.append(content)"
   ]
  },
  {
   "cell_type": "code",
   "execution_count": 101,
   "id": "c05e32d5",
   "metadata": {},
   "outputs": [
    {
     "data": {
      "text/plain": [
       "['あるところに、 小さな町がありました。この 町は美しい自然に囲まれており、 人々は平和で\\n幸せな生活を送っていました。  \\n \\nある日、町に一人の若者が現れました。 彼の名前は太郎といい、 彼は冒険心旺盛 な若者でし\\nた。太郎は町の人々に別れを告げ、新たな旅に出ることを 決めました。  \\n \\n太郎は山々と森を通り抜け、川を渡りながら、さまざまな 場所を訪れました。 彼は知識を深\\nめ、新しい友人を作りながら、 多くの困難に立ち向かいました。 太郎は剣の使い方や魔法の\\n秘密を学び、自分自身 を成長させていきました。  \\n \\n数年が経ち、太郎は成熟した冒険者として知られるようになりました。 彼は多くの冒険を経\\n験し、魔物や困難なクエスト を乗り越えてきました。しかし、 彼の心の奥底では、故郷の町\\nと町の人々への思いが忘れられずにいました。  \\n \\nある日、太郎 は故郷の町へ戻ることを 決意しました。 彼は町の人々に驚きと喜びをもたらし\\nました。 太郎は町の青年たちに剣の技を教え、若い魔法使いたちと 共に冒険に出かけました\\n。 \\n \\n故郷の町は太郎の帰還によって 活気づき、ますます 繁栄しました。 彼は冒険者としての 名声\\nを手にしながらも、 町の一員としての 誇りを忘れませんでした。  \\n \\n太郎の物語は多くの人々に伝えられ、 彼は英雄として称えられました。 彼の冒険の旅は終わ\\nりを告げましたが、 太郎は町の人々と共に平穏な日々を過ごしました。  \\n \\nこの物語は勇気と希望を持つ若者の旅であり、 故郷と愛する人々への情熱を称えるものでし\\nた。太郎の冒険は彼自身だけでなく、 町の未来にも大きな影響を与えました。  ',\n",
       " 'あるところに、 小さな町がありました。この 町は美しい自然に囲まれており、 人々は平和で\\n幸せな生活を送っていました。  \\n \\nある日、町に一人の若者が現れました。 彼の名前は太郎といい、 彼は冒険心旺盛 な若者でし\\nた。太郎は町の人々に別れを告げ、新たな旅に出ることを 決めました。  \\n \\n太郎は山々と森を通り抜け、川を渡りながら、さまざまな 場所を訪れました。 彼は知識を深\\nめ、新しい友人を作りながら、 多くの困難に立ち向かいました。 太郎は剣の使い方や魔法の\\n秘密を学び、自分自身 を成長させていきました。  \\n \\n数年が経ち、太郎は成熟した冒険者として知られるようになりました。 彼は多くの冒険を経\\n験し、魔物や困難なクエスト を乗り越えてきました。しかし、 彼の心の奥底では、故郷の町\\nと町の人々への思いが忘れられずにいました。  \\n \\nある日、太郎 は故郷の町へ戻ることを 決意しました。 彼は町の人々に驚きと喜びをもたらし\\nました。 太郎は町の青年たちに剣の技を教え、若い魔法使いたちと 共に冒険に出かけました\\n。 \\n \\n故郷の町は太郎の帰還によって 活気づき、ますます 繁栄しました。 彼は冒険者としての 名声\\nを手にしながらも、 町の一員としての 誇りを忘れませんでした。  \\n \\n太郎の物語は多くの人々に伝えられ、 彼は英雄として称えられました。 彼の冒険の旅は終わ\\nりを告げましたが、 太郎は町の人々と共に平穏な日々を過ごしました。  \\n \\nこの物語は勇気と希望を持つ若者の旅であり、 故郷と愛する人々への情熱を称えるものでし\\nた。太郎の冒険は彼自身だけでなく、 町の未来にも大きな影響を与えました。  ',\n",
       " 'あるところに、 小さな町がありました。この 町は美しい自然に囲まれており、 人々は平和で\\n幸せな生活を送っていました。  \\n \\nある日、町に一人の若者が現れました。 彼の名前は太郎といい、 彼は冒険心旺盛 な若者でし\\nた。太郎は町の人々に別れを告げ、新たな旅に出ることを 決めました。  \\n \\n太郎は山々と森を通り抜け、川を渡りながら、さまざまな 場所を訪れました。 彼は知識を深\\nめ、新しい友人を作りながら、 多くの困難に立ち向かいました。 太郎は剣の使い方や魔法の\\n秘密を学び、自分自身 を成長させていきました。  \\n \\n数年が経ち、太郎は成熟した冒険者として知られるようになりました。 彼は多くの冒険を経\\n験し、魔物や困難なクエスト を乗り越えてきました。しかし、 彼の心の奥底では、故郷の町\\nと町の人々への思いが忘れられずにいました。  \\n \\nある日、太郎 は故郷の町へ戻ることを 決意しました。 彼は町の人々に驚きと喜びをもたらし\\nました。 太郎は町の青年たちに剣の技を教え、若い魔法使いたちと 共に冒険に出かけました\\n。 \\n \\n故郷の町は太郎の帰還によって 活気づき、ますます 繁栄しました。 彼は冒険者としての 名声\\nを手にしながらも、 町の一員としての 誇りを忘れませんでした。  \\n \\n太郎の物語は多くの人々に伝えられ、 彼は英雄として称えられました。 彼の冒険の旅は終わ\\nりを告げましたが、 太郎は町の人々と共に平穏な日々を過ごしました。  \\n \\nこの物語は勇気と希望を持つ若者の旅であり、 故郷と愛する人々への情熱を称えるものでし\\nた。太郎の冒険は彼自身だけでなく、 町の未来にも大きな影響を与えました。  ',\n",
       " 'あるところに、 小さな町がありました。この 町は美しい自然に囲まれており、 人々は平和で\\n幸せな生活を送っていました。  \\n \\nある日、町に一人の若者が現れました。 彼の名前は太郎といい、 彼は冒険心旺盛 な若者でし\\nた。太郎は町の人々に別れを告げ、新たな旅に出ることを 決めました。  \\n \\n太郎は山々と森を通り抜け、川を渡りながら、さまざまな 場所を訪れました。 彼は知識を深\\nめ、新しい友人を作りながら、 多くの困難に立ち向かいました。 太郎は剣の使い方や魔法の\\n秘密を学び、自分自身 を成長させていきました。  \\n \\n数年が経ち、太郎は成熟した冒険者として知られるようになりました。 彼は多くの冒険を経\\n験し、魔物や困難なクエスト を乗り越えてきました。しかし、 彼の心の奥底では、故郷の町\\nと町の人々への思いが忘れられずにいました。  \\n \\nある日、太郎 は故郷の町へ戻ることを 決意しました。 彼は町の人々に驚きと喜びをもたらし\\nました。 太郎は町の青年たちに剣の技を教え、若い魔法使いたちと 共に冒険に出かけました\\n。 \\n \\n故郷の町は太郎の帰還によって 活気づき、ますます 繁栄しました。 彼は冒険者としての 名声\\nを手にしながらも、 町の一員としての 誇りを忘れませんでした。  \\n \\n太郎の物語は多くの人々に伝えられ、 彼は英雄として称えられました。 彼の冒険の旅は終わ\\nりを告げましたが、 太郎は町の人々と共に平穏な日々を過ごしました。  \\n \\nこの物語は勇気と希望を持つ若者の旅であり、 故郷と愛する人々への情熱を称えるものでし\\nた。太郎の冒険は彼自身だけでなく、 町の未来にも大きな影響を与えました。  ',\n",
       " 'あるところに、 小さな町がありました。この 町は美しい自然に囲まれており、 人々は平和で\\n幸せな生活を送っていました。  \\n \\nある日、町に一人の若者が現れました。 彼の名前は太郎といい、 彼は冒険心旺盛 な若者でし\\nた。太郎は町の人々に別れを告げ、新たな旅に出ることを 決めました。  \\n \\n太郎は山々と森を通り抜け、川を渡りながら、さまざまな 場所を訪れました。 彼は知識を深\\nめ、新しい友人を作りながら、 多くの困難に立ち向かいました。 太郎は剣の使い方や魔法の\\n秘密を学び、自分自身 を成長させていきました。  \\n \\n数年が経ち、太郎は成熟した冒険者として知られるようになりました。 彼は多くの冒険を経\\n験し、魔物や困難なクエスト を乗り越えてきました。しかし、 彼の心の奥底では、故郷の町\\nと町の人々への思いが忘れられずにいました。  \\n \\nある日、太郎 は故郷の町へ戻ることを 決意しました。 彼は町の人々に驚きと喜びをもたらし\\nました。 太郎は町の青年たちに剣の技を教え、若い魔法使いたちと 共に冒険に出かけました\\n。 \\n \\n故郷の町は太郎の帰還によって 活気づき、ますます 繁栄しました。 彼は冒険者としての 名声\\nを手にしながらも、 町の一員としての 誇りを忘れませんでした。  \\n \\n太郎の物語は多くの人々に伝えられ、 彼は英雄として称えられました。 彼の冒険の旅は終わ\\nりを告げましたが、 太郎は町の人々と共に平穏な日々を過ごしました。  \\n \\nこの物語は勇気と希望を持つ若者の旅であり、 故郷と愛する人々への情熱を称えるものでし\\nた。太郎の冒険は彼自身だけでなく、 町の未来にも大きな影響を与えました。  ',\n",
       " 'あるところに、 小さな町がありました。この 町は美しい自然に囲まれており、 人々は平和で\\n幸せな生活を送っていました。  \\n \\nある日、町に一人の若者が現れました。 彼の名前は太郎といい、 彼は冒険心旺盛 な若者でし\\nた。太郎は町の人々に別れを告げ、新たな旅に出ることを 決めました。  \\n \\n太郎は山々と森を通り抜け、川を渡りながら、さまざまな 場所を訪れました。 彼は知識を深\\nめ、新しい友人を作りながら、 多くの困難に立ち向かいました。 太郎は剣の使い方や魔法の\\n秘密を学び、自分自身 を成長させていきました。  \\n \\n数年が経ち、太郎は成熟した冒険者として知られるようになりました。 彼は多くの冒険を経\\n験し、魔物や困難なクエスト を乗り越えてきました。しかし、 彼の心の奥底では、故郷の町\\nと町の人々への思いが忘れられずにいました。  \\n \\nある日、太郎 は故郷の町へ戻ることを 決意しました。 彼は町の人々に驚きと喜びをもたらし\\nました。 太郎は町の青年たちに剣の技を教え、若い魔法使いたちと 共に冒険に出かけました\\n。 \\n \\n故郷の町は太郎の帰還によって 活気づき、ますます 繁栄しました。 彼は冒険者としての 名声\\nを手にしながらも、 町の一員としての 誇りを忘れませんでした。  \\n \\n太郎の物語は多くの人々に伝えられ、 彼は英雄として称えられました。 彼の冒険の旅は終わ\\nりを告げましたが、 太郎は町の人々と共に平穏な日々を過ごしました。  \\n \\nこの物語は勇気と希望を持つ若者の旅であり、 故郷と愛する人々への情熱を称えるものでし\\nた。太郎の冒険は彼自身だけでなく、 町の未来にも大きな影響を与えました。  ',\n",
       " 'あるところに、 小さな町がありました。この 町は美しい自然に囲まれており、 人々は平和で\\n幸せな生活を送っていました。  \\n \\nある日、町に一人の若者が現れました。 彼の名前は太郎といい、 彼は冒険心旺盛 な若者でし\\nた。太郎は町の人々に別れを告げ、新たな旅に出ることを 決めました。  \\n \\n太郎は山々と森を通り抜け、川を渡りながら、さまざまな 場所を訪れました。 彼は知識を深\\nめ、新しい友人を作りながら、 多くの困難に立ち向かいました。 太郎は剣の使い方や魔法の\\n秘密を学び、自分自身 を成長させていきました。  \\n \\n数年が経ち、太郎は成熟した冒険者として知られるようになりました。 彼は多くの冒険を経\\n験し、魔物や困難なクエスト を乗り越えてきました。しかし、 彼の心の奥底では、故郷の町\\nと町の人々への思いが忘れられずにいました。  \\n \\nある日、太郎 は故郷の町へ戻ることを 決意しました。 彼は町の人々に驚きと喜びをもたらし\\nました。 太郎は町の青年たちに剣の技を教え、若い魔法使いたちと 共に冒険に出かけました\\n。 \\n \\n故郷の町は太郎の帰還によって 活気づき、ますます 繁栄しました。 彼は冒険者としての 名声\\nを手にしながらも、 町の一員としての 誇りを忘れませんでした。  \\n \\n太郎の物語は多くの人々に伝えられ、 彼は英雄として称えられました。 彼の冒険の旅は終わ\\nりを告げましたが、 太郎は町の人々と共に平穏な日々を過ごしました。  \\n \\nこの物語は勇気と希望を持つ若者の旅であり、 故郷と愛する人々への情熱を称えるものでし\\nた。太郎の冒険は彼自身だけでなく、 町の未来にも大きな影響を与えました。  ',\n",
       " 'あるところに、 小さな町がありました。この 町は美しい自然に囲まれており、 人々は平和で\\n幸せな生活を送っていました。  \\n \\nある日、町に一人の若者が現れました。 彼の名前は太郎といい、 彼は冒険心旺盛 な若者でし\\nた。太郎は町の人々に別れを告げ、新たな旅に出ることを 決めました。  \\n \\n太郎は山々と森を通り抜け、川を渡りながら、さまざまな 場所を訪れました。 彼は知識を深\\nめ、新しい友人を作りながら、 多くの困難に立ち向かいました。 太郎は剣の使い方や魔法の\\n秘密を学び、自分自身 を成長させていきました。  \\n \\n数年が経ち、太郎は成熟した冒険者として知られるようになりました。 彼は多くの冒険を経\\n験し、魔物や困難なクエスト を乗り越えてきました。しかし、 彼の心の奥底では、故郷の町\\nと町の人々への思いが忘れられずにいました。  \\n \\nある日、太郎 は故郷の町へ戻ることを 決意しました。 彼は町の人々に驚きと喜びをもたらし\\nました。 太郎は町の青年たちに剣の技を教え、若い魔法使いたちと 共に冒険に出かけました\\n。 \\n \\n故郷の町は太郎の帰還によって 活気づき、ますます 繁栄しました。 彼は冒険者としての 名声\\nを手にしながらも、 町の一員としての 誇りを忘れませんでした。  \\n \\n太郎の物語は多くの人々に伝えられ、 彼は英雄として称えられました。 彼の冒険の旅は終わ\\nりを告げましたが、 太郎は町の人々と共に平穏な日々を過ごしました。  \\n \\nこの物語は勇気と希望を持つ若者の旅であり、 故郷と愛する人々への情熱を称えるものでし\\nた。太郎の冒険は彼自身だけでなく、 町の未来にも大きな影響を与えました。  ',\n",
       " 'あるところに、 小さな町がありました。この 町は美しい自然に囲まれており、 人々は平和で\\n幸せな生活を送っていました。  \\n \\nある日、町に一人の若者が現れました。 彼の名前は太郎といい、 彼は冒険心旺盛 な若者でし\\nた。太郎は町の人々に別れを告げ、新たな旅に出ることを 決めました。  \\n \\n太郎は山々と森を通り抜け、川を渡りながら、さまざまな 場所を訪れました。 彼は知識を深\\nめ、新しい友人を作りながら、 多くの困難に立ち向かいました。 太郎は剣の使い方や魔法の\\n秘密を学び、自分自身 を成長させていきました。  \\n \\n数年が経ち、太郎は成熟した冒険者として知られるようになりました。 彼は多くの冒険を経\\n験し、魔物や困難なクエスト を乗り越えてきました。しかし、 彼の心の奥底では、故郷の町\\nと町の人々への思いが忘れられずにいました。  \\n \\nある日、太郎 は故郷の町へ戻ることを 決意しました。 彼は町の人々に驚きと喜びをもたらし\\nました。 太郎は町の青年たちに剣の技を教え、若い魔法使いたちと 共に冒険に出かけました\\n。 \\n \\n故郷の町は太郎の帰還によって 活気づき、ますます 繁栄しました。 彼は冒険者としての 名声\\nを手にしながらも、 町の一員としての 誇りを忘れませんでした。  \\n \\n太郎の物語は多くの人々に伝えられ、 彼は英雄として称えられました。 彼の冒険の旅は終わ\\nりを告げましたが、 太郎は町の人々と共に平穏な日々を過ごしました。  \\n \\nこの物語は勇気と希望を持つ若者の旅であり、 故郷と愛する人々への情熱を称えるものでし\\nた。太郎の冒険は彼自身だけでなく、 町の未来にも大きな影響を与えました。  ']"
      ]
     },
     "execution_count": 101,
     "metadata": {},
     "output_type": "execute_result"
    }
   ],
   "source": [
    "text"
   ]
  },
  {
   "cell_type": "code",
   "execution_count": 102,
   "id": "71c2fc32",
   "metadata": {},
   "outputs": [
    {
     "name": "stdout",
     "output_type": "stream",
     "text": [
      "In one place, there was a small town, surrounded by beautiful nature, and people were living a peaceful and happy life. His name was Taro, and he was a young man who decided to leave the town and go on a new trip. As he made his way through the mountains and the rivers, he put up a lot of difficulty in making new friends and learning how to use the sword and how to use it.\n",
      "In one place, there was a small town, surrounded by beautiful nature, and people were living a peaceful and happy life. His name was Taro, and he was a young man who decided to leave the town and go on a new trip. As he made his way through the mountains and the rivers, he put up a lot of difficulty in making new friends and learning how to use the sword and how to use it.\n",
      "In one place, there was a small town, surrounded by beautiful nature, and people were living a peaceful and happy life. His name was Taro, and he was a young man who decided to leave the town and go on a new trip. As he made his way through the mountains and the rivers, he put up a lot of difficulty in making new friends and learning how to use the sword and how to use it.\n",
      "In one place, there was a small town, surrounded by beautiful nature, and people were living a peaceful and happy life. His name was Taro, and he was a young man who decided to leave the town and go on a new trip. As he made his way through the mountains and the rivers, he put up a lot of difficulty in making new friends and learning how to use the sword and how to use it.\n",
      "In one place, there was a small town, surrounded by beautiful nature, and people were living a peaceful and happy life. His name was Taro, and he was a young man who decided to leave the town and go on a new trip. As he made his way through the mountains and the rivers, he put up a lot of difficulty in making new friends and learning how to use the sword and how to use it.\n",
      "In one place, there was a small town, surrounded by beautiful nature, and people were living a peaceful and happy life. His name was Taro, and he was a young man who decided to leave the town and go on a new trip. As he made his way through the mountains and the rivers, he put up a lot of difficulty in making new friends and learning how to use the sword and how to use it.\n",
      "In one place, there was a small town, surrounded by beautiful nature, and people were living a peaceful and happy life. His name was Taro, and he was a young man who decided to leave the town and go on a new trip. As he made his way through the mountains and the rivers, he put up a lot of difficulty in making new friends and learning how to use the sword and how to use it.\n",
      "In one place, there was a small town, surrounded by beautiful nature, and people were living a peaceful and happy life. His name was Taro, and he was a young man who decided to leave the town and go on a new trip. As he made his way through the mountains and the rivers, he put up a lot of difficulty in making new friends and learning how to use the sword and how to use it.\n",
      "In one place, there was a small town, surrounded by beautiful nature, and people were living a peaceful and happy life. His name was Taro, and he was a young man who decided to leave the town and go on a new trip. As he made his way through the mountains and the rivers, he put up a lot of difficulty in making new friends and learning how to use the sword and how to use it.\n"
     ]
    }
   ],
   "source": [
    "src_text = text\n",
    "translated = model.generate(**tokenizer(src_text, return_tensors=\"pt\", padding=True))\n",
    "\n",
    "for t in translated:\n",
    "    print(tokenizer.decode(t, skip_special_tokens=True))"
   ]
  },
  {
   "cell_type": "markdown",
   "id": "7833f89b",
   "metadata": {},
   "source": [
    "### Document Translate"
   ]
  },
  {
   "cell_type": "code",
   "execution_count": 91,
   "id": "60dd7bc1",
   "metadata": {
    "scrolled": false
   },
   "outputs": [
    {
     "name": "stdout",
     "output_type": "stream",
     "text": [
      "Chunk 1:\n",
      "‰ö•¨‚Æ”Ñ‚ð H‚Ó˜b ‰ª–{ˆê•½ ------------------------------------------------------- yƒeƒLƒXƒg’†‚ÉŒ»‚ê‚é‹L †‚É‚Â‚¢‚Äz stFƒ‹ƒr i—áj‘Ås‚Ôt‚Â bFƒ‹ƒr‚Ì•t‚­•¶Žš—ñ‚ÌŽn‚Ü‚è‚ð“Á’è‚·‚é‹L† i—ájˆÊbá°–Ês‚µ‚¤‚ß‚ñt m”nF“ü—ÍŽÒ’@Žå‚ÉŠOŽš‚Ìà–¾‚âA–T“_‚ÌˆÊ’u‚ÌŽw’è i—ájm”‚PŽš‰º‚° n ^_F“ñ”{‚Ì—x‚èŽšiu‚­v‚ðc‚É’·‚­‚µ‚½‚æ‚¤‚ÈŒ`‚ÌŒJ‚è•Ô‚µ‹L†j i—áj‚­‚Ç^_ ------------------------------------------------------- m”‚PŽš‰º‚° nãm”uãv‚Í’†Œ©o‚µn @Ž€‚ñ‚¾¬à‰Æ‚ÌàÕ•à‚Í“ V’n‚É‹Á‚«“x‚¢‚Æ\\‚µ‚Ü‚µ‚½B‚í‚½‚­‚µ‚Ì‚Í­‚µˆá‚Ð‚Ü ‚·BŽžX•ð‚ê‚é‚â‚¤‚È‚à‚Ì‚É‘Ås‚Ôt‚Â‚©‚ç‚Ê‚Æ¶–½‚ª‹–°‚è‚ð‚µ‚ÄŽd•‘‚Ó‚Ì‚Å ‚·B @‚Ó‚Æ‘Š –oê‚Ös‚«‚Ü‚µ‚½Bo‰H›Ô‚Æ‚¢‚Ó—ÍŽm‚Ì”nŽ­XX‚µ‚¢‘å‚«‚³‚É­‚ µ•ð‚ê‚éŽ–‚ªo—ˆ‚Ü‚µ‚½BL‚¢¢ŠE‚É“¯‚¶SŽ‚¿‚Ìl‚ª‚ ‚é‚©‚à’m‚ê‚ÊB•ð‚ê‚ð ‚¨•Ÿ•ª‚¯‚·‚éÏ‚è‚ÅŒÜ˜ Z“ú“y•Uã‚Ì‰ö•¨‚Ì“® Ã‚ðŠG‚Å‚¨’m‚ç‚¹‚µ‚Ü‚µ‚½B @‚Æ‚±‚ë‚ª‚± T‚É‰ö•¨‚ÉÐ‰îs‚Ð‚«t‡‚¹‚æ‚¤‚Æ‚¢‚Ól‚ªo‚Ü‚µ‚½Bu‚· ‚ÆˆãŠwŽm‚Å‰Ìl‚Ì‚rŽ‚Ì‰œ‚³‚ñ‚Å‚·B‚rŽ‚È‚ç‚Î‚í‚½‚­‚µ‚Ìó‚¢’ml‚Å‚µ‚½B‚» ‚µ‚Äo‰H‚Í‚rŽ‚Ì—¼e‚ª—{‚ÐŽq‚Æ‚µ‚Äˆ¤‚µˆç‚Ä‚½ŠÖŒW‚Ì—ÍŽm‚¾‚³‚¤‚Å‚·B•ð‚ê‚ð[‚ß ‚éˆ×‚ß‚í‚½‚­‚µ‚Íˆê‹c‚É‹y‚Î‚¸³’m’v‚µ‚Ü‚µ‚½B @¼‚ÌT‚Ö•”‰®‚Ös‚­‚Æ‰ö•¨‚Í¡“y•U‚©‚çã‚ª‚Â‚½‚Æ‚±‚ë‚Å‚· B‰œ‚³‚ñ‚ª‚í ‚½‚­‚µ‚ðÐ‰î‚µ‚Ä‚à‰ö•¨‚Í‚¨Ž«‹ V‚ð‚µ‚Ü‚¹‚ñB—y‚ ©ã‚Ì•û‚Å“ï‚©‚µ‚¢Šç‚ð‚µ‚Ä‚é‚ç‚µ‚¢‚Ì‚ª‹ÂŒü‚ ­‚Æ‚â‚Â‚Æ”` s‚¤‚©Ut‚Í‚ê‚Ü‚·B‰œ‚³‚ñ‚ª‰ö•¨‚Ì‘å‚«‚È‚¨• ‚ÉŒü‚Â‚ÄŒ¾‚Ð‚Ü‚µ‚½Bw•¶Ž¡A‚¨‘OŽ¸— ç‚Å‚Í‚È‚¢‚©‚¢ B‰½‚Æ‚©Œäˆ¥ŽA‚ð\\ã‚°‚Èx‚Æ‚»‚±‚Å‚â‚Â‚Æã‚Ì•û‚Å…’ê‚Ì” jàs‚â‚Ô‚ê‚ª‚Ët‚Ì‚â‚¤‚Èº‚ª‚µ‚Ü‚µ‚½BwV•·‚ÉŠG‚ð•`‚¢‚ÄŒà‚ê‚Ë‚¦•û‚ª‚¦ T‚ æ‹C‚É‚È‚Â‚Ä—Í‚ªo‚Ë‚¦x¬’ö”Þ‚Í ŸêŠ•‰‚¯‚ñ‚ª‚±‚ñ‚Å‹ ‚Ü‚µ‚½B‚í‚½‚­‚µ‚\n",
      "---\n",
      "Chunk 2:\n",
      "ÍÎ‚Ð‚Ü‚µ‚½ B‰œ‚³‚ñ‚Í‚Î‚Âm”u‚Î‚Âv‚É–T“_n‚ðm”u‰œ‚³‚ñ‚Í‚Î‚ Âm”u‚Î‚Âv‚É–T“_n‚ðv‚Í’ê–{‚Å‚Íu‰œ‚³‚ñ‚Í‚Îm”u‚Í‚Îv‚É–T“ _n‚Â‚ðvnˆ«‚­‚µ‚Ä‚»‚ê‚©‚çæxXs‚­‚Ç^_t‚Æ‚¨• ‚ÉŒü‚Ðl‹C¤”„‚Ì—ÍŽm‚ Í’Nls‚¾‚êt‚É‚àˆ¤‘z‚æ‚­‚·‚×‚«‚à‚ÌT—Rs‚æ‚µt‚ðŒ¾‚Ð•·‚©‚¹‚Ü‚µ‚½B‰œ‚³ ‚ñ‚Í—‚Æ‚µ‚Ä’á‚¢•û‚Å‚Í‚ ‚è‚Ü‚¹‚È‚ñ‚¾B‚»‚ê‚Å‹‚ÄŠç‚ÌŒü‚«‡‚Ó‚Æ‚±‚ë‚Í’š“x ‰ö•¨‚Ì‚¨• ‚Å‚·B‚¨• ‚ÉŒü‚Â‚Ä‰]‚Ð•·‚©‚µ‚½Œ¾—t‚ª‚¢‚Â‰ö•¨‚Ì“ª‚Ü‚Å“`‚Í‚é‚â‚ çŠo‘©‚È‚¢‚Æ‚í‚½‚­‚µ‚ÍŽv‚Ð‚Ü‚µ‚½ B @‰ö•¨‚ð —U‚Â‚ÄŽ©“®ŽÔ‚É æ‚è‚Ü‚µ‚½ BŽ©“®ŽÔ‚Ì’†‚Ì‰ö•¨‚Í’š“ x•Ù“–” ‚É‘ò ˆÁ’Ð‚ð“ñ‚Â‚É‹È‚°‚Ä“ü‚ê‚½Œ`‚Å‚µ‚½B‚»‚µ‚Ä‚í‚½‚­‚µ‚Í‚»‚ÌŒ„ŠÔ‚Ì‚Â‚ß‚Å‚·B_“ c–¾_‘O‚ÅŽ©“®ŽÔ‚Ì“d“”‚ª‘ Ê–Ú‚É‚È‚è‚Ü‚µ‚½B‘¼‚ÌŽÔ‚ðŒÙ‚Í‚¹‚éˆ×‚ß‰^“ ]Žè‚ð’y‚ç‚¹‚½B~ŽÔs‚¨‚èt‚Ä‰ö•¨‚ ÍˆÅ‚Ì’†‚ÌŽ©“®ŽÔ‚ÌŽüˆÍ‚ðŠß‹ï‚Ì‚â‚¤‚É•¨’¿‚ç‚µ‚ ­•‚Å‰ô‚µ‚Ü‚µ‚½Bi‚ñ‚Å‰^“ ]Žè‘ä‚Ì‹ @ŠB‚ÉŽw‚ðG‚ê‚é‚Æw‚ ‚¿ccx‚Æ‹Á‚«‚Ü‚µ‚½B‚»‚ê‚©‚ç‚É‚â‚è‚ ÆÎ‚Â‚Äw‚±T”M‚¢‚¼BG‚Â‚ÄŒ©‚ëx‚ÆŒ¾‚Ð‚Ü‚µ‚½B‚í‚½‚­‚µ‚Í‚»‚ê‚æ‚è‰ö•¨‚ª Šñ‚è‚©T‚éˆ×‚ßŽÔ‚ªŒX‚¢‚ÅƒSƒ€‚Ìƒ^ƒCƒ„‚ª‚Ç‚ÌˆÊ bá°–Ês‚µ‚¤‚ß‚ñtì‚é‚©‚É‹» – ¡‚ðŽ‚¿‚Ü‚µ‚½B‚Å‰ö•¨‚Íˆêl‚ÅŒJ•Ô‚µŽw‚ð¬‚³‚È”MŠ‚ÖG‚ê‚Ä‚Í”M‚ª‚Â‚Ä‹‚Ü ‚·B‘R‚µ‘å‚«‚ÈŠç‚É‚Íˆ¤•¨‚ð˜M‚éŽž‚Ì‚â‚¤‚È–£‚¹‚ç‚ê‚½”÷Î‚ªã‚ª‚Â‚Ä‹ ‚Ü‚µ‚½ B‚Ó‚Æˆê‚Â‚ÌlˆÄ‚ª‚í‚½‚­‚µ‚Ì“ª‚É‘M‚«‚Ü‚µ‚½B‹l‚Í‹p‚Â‚Ä¬sƒvƒ`[t‚Æ‚ ¢‚ÓŽ–‚ÉˆÙí‚Èˆ¤’…‚ ðŽ‚Â‚à‚Ì‚Å‚Í‚È‚¢‚©‚ÆB @–{‹½‚Ìw–L‘x‚Ö’…‚«‚Ü‚µ‚½B‰ö•¨‚Í‘‘¬À•~‚Ì•~‹‚É‘«‚ð“Š‚°o‚ µä©”™‚Æ’ë‚ÌÂ—t‚É‰f‚é“d“”‚ð’­‚ßo‚µ‚Ü‚µ‚½B‚±T‚Å“ñ‚Â‚Ì”÷ Î‚·‚×‚«Ž –Û‚ðŒ©“¦‚µ‚Ä‚Í‚È‚è‚Ü‚¹‚ñ B‹|‚È‚è‚É‹È‚Â‚½áŽq‚ÆK‚Ì‰º‚ÉˆóŽ†’ö‚ ÉŒ©‚ä‚éÀŠ—’c‚ÆB m”‚PŽš‰º‚° n‰ºm”u‰ºv‚Í’†Œ©o‚µn @H‚à‚Ì‚âˆù‚à‚Ì‚ª—ˆ‚Ü‚µ‚½B‰ö•¨‚Í¬—kŽ}‚Ì‚â‚¤‚ÉŒ©‚ä‚éŽè‚Ì”¢‚ðŠí—p‚É‘€‚è“ ç‚Ì‹“÷‚ðŽÏ‚É‚©‚©‚è‚Ü‚µ‚½B—’†‚ªƒTƒCƒ_[‚ð”²‚«AƒRƒbƒv‚Ö’u‚«m”u ’u‚«v‚É–T“_n’‚¬‚É‚·‚é‚Ì‚ðŒ©‚Ä‰ö•¨‚Í‹}‚¢‚ÅšÞ‚ð’D‚ÐŽæ‚èw‚³‚¤‚â‚Â‚¿‚âŽ¸\n",
      "---\n",
      "Chunk 3:\n",
      "—ç‚¾‚¼x‚Æ‰ü‚ß‚Ä‚í‚½‚­‚µ‚É‹ó‚ÌƒRƒbƒv‚ðŽ ‚½‚¹A‚»‚ê‚©‚çƒTƒCƒ_[‚ð’‚¢‚ÅŒà‚ê‚ Ü‚µ‚½B‰ö•¨‚É‚±‚ñ‚È‚±‚Ü‚©‚¢íŽ¯‚ª‚ ‚é‚Æ‚ÍŽv‚ÐŠñ‚è‚Ü‚¹‚ñ‚Å‚µ‚½B @“÷‚ÍŽÏ‚¦‚Ä —ˆ‚Ü‚µ‚½B‚í‚½‚­‚µ‚Í‰ö•¨‚ª‚Ç‚Ì‚â‚¤‚É‘åH‚·‚é‚¾‚ç‚¤A‚»‚ê‚ðS ‘Ò‚¿‚É’ˆÓ‚ð‘Ó‚ç‚¸Ž©•ª‚Ì”¢‚ð‰^‚Ñ‚Ü‚µ‚½B‚¯‚ê‚Ç‚à‰ö•¨‚Í`‚Ì–¡‚ðl‚Ö‚½‚è “÷‚Æ”K‚Æ‚Ì”z ‡‚ð’ö‚æ‚­®‚Ö‚½‚èA‰ÂÎ‚µ‚È’ö l‚È‚Ý‚ÌŽ–‚ð’v‚µ‚Ä‚Ü‚·B @‚í‚½‚­‚µ‚ÍŠ¬‚ÖŒ“‚Ä wŒN­‚µH‚×‚ÄŒ©‚¹‚ÄŒà‚ê‚È‚¢‚©B‚»‚ÌÏ‚è‚Å— ˆ‚½‚Ì‚¾‚©‚ç x‚È‚¼—U‚Ð‚ð‚©‚¯‚Ü‚µ‚½B‰ö•¨‚Í­‚µ–Ê”’‚­‚È‚¢Šç‚ð‚µ‚Äw‚í‚µ‚ª‘ åH‚¾‚Æ‚Ä‚±‚ÌŠÔ‚à‹ãB‚©‚ç‚Ì‹A‚è‚Ì‹DŽÔ‚ÅƒoƒiR‚ð“ñŠÑ–ÚH‚×‚½‚È‚¼‚Æ ’®‚³‚ ê‚½‚ª‚»‚ñ‚È‚É‚ÍH‚×‚ç‚ê‚ñ‚íB“Œ‹ž‚Ö’…‚¢‚½Žž‚Ü‚¾”ª•S–Ú‚àŽc‚Â‚Ä‚½x‚Æ•Ù‰ð‚µ‚Ü‚µ‚½B˜b‚ð”½‚ç‚·‚â‚¤‚Éw‚»‚Ì‹DŽÔ‚Ì’†‚Å –Ê”’‚©‚Â‚½‚¼ A“cŽÉ‚Ì‹ql‚ª Œ‚Â‚Ä‚Ì‚¤ Bæo‚Ö‚½ƒIƒ€ƒŒm”uƒIƒ€ƒŒv‚É–T“_nƒ`m”uƒ`v‚É”’ ŽOŠp–T“_n‚Ì’†‚ÖŠç‚ð“Ë‚Âž‚ñ‚ÅQ‚Ä‚µ‚Ü‚Â‚½x‚í‚½‚­‚µw‚ ‚ée•û‚ª˜b‚µ‚½‚Ì ‚¾‚ª‚ËBŒN‚Í‚»‚ñ‚È‚É‚¤‚Ü‚­‚È‚­‚Ä‚à‚¢TA“e‚ÉŠp•’Ê‚É‘Š–o‚ÌˆêŽè‚ðŠo‚ ¦ž‚ñ‚¾‚ç‘ŠŽè‚É —§‚Â“G‚Í–³‚¢‚Æ‚¢‚Â‚Ä‚½‚ª‚Ç‚¤‚¾‚ËB–ˆ“ú‚ ‚Ü‚èŒÅ‚­‚È‚è‰ß‚¬‚â‚µ ‚È‚¢‚©x w‚í‚µ‚ÍŽd Ø‚Â‚Ä‚éŽž‚É‚Ì‚¤ BŽüˆÍs‚Ü‚Í‚èt‚ÅŒ©•¨‚Ì‚í‚ ‚Æ‚¢‚Óº‚ª‚·‚é‚Æ‚ Ç‚¤‚µ‚Ä‚à —§‚Ä‚ñ‚Å B‚»‚ê‚É’m‚Â‚½l‚ÌŠç‚ªŽV•~‚ÉŒ©‚¦‚é‚Æ‚à‚¤‚¢‚©‚ñ‚ËB‘Ê–Ú‚¾x ‰ö•¨ˆÄŠO‹C‚ªŽã‚¢B˜b‚ÌAŠÔ‚É“¯È‚Ì”N”z‚Ì‚ ‚é‰œ‚³‚ñ‚ª‰ö•¨‚Ì‘Ñ‚É•ð‚ê‚Ä‹ ‚Ü‚·B‚í‚½‚­‚µwŒN‚Í‹‚«‚Èg‘Ì‚Ìˆ×‚ß‚É‚Ó‚¾‚ñ‚Ì•é‚ç‚µ•û‚É•sŽ©—R‚Èˆ‚Í–³‚¢‚ ©‚Ëx‰ö•¨w–³‚¢‚æx‰ö•¨‚Í‚±T‚Å–”˜b‚ð”½‚ç‚·‚â‚¤‚É w‹“÷‚ÌŽO–‡“÷‚ ð–¡—Ò‚ÆÝ–û‚Æ¶›I‚É’Ð‚¯‚Ä‚»‚ê‚©‚ç¶Ž†s‚«‚ª‚Ýt‚Ìã‚ÅÄ‚¢‚ÄH‚Ó‚Æ”ü–¡ ‚¢‚¼x‰ö•¨‚Í”Þ‚Ìg‘Ì‚ÌˆÙí‚È‚é‘å H‚ÌŽ–‚ÉG‚ê‚ç‚ê‚éŽ–‚Íˆ—‚Ì’p‚ðŠo‚¦‚ é‚ç‚µ‚¢‚Ì‚Å‚·‚©‚ç‚È‚éä‚¯l•À‚ÌŒ¾s‚ð“w‚ß‚½‚ª‚é‚Ì‚Å‚µ‚æ‚¤B‘R‚µ“÷‚Í’ iXŽÏ‚Äs‚Â‚Ä“ç‚ÉŽR‚ÆÏ‚Ý‚»‚ê‚©‚ç‚í‚½‚ ­‚µ‚Éw‚³‚ A”ÑAH‚×‚ëx‚Æ\\‚µ‚ Ü‚µ‚½‚Ì‚Í¢‚ÉŠˆàs‚¢‚Í‚ä‚ét–â‚Ó‚É—Ž‚¿‚¸Œê‚é‚É—Ž‚Â‚Ì—Þ‚Å‚Í‚È‚¢‚Å‚µ‚æ‚¤‚©B‰ ö•¨‚Í•”‰®‚ÅH‚×‚Ä—ˆ‚½‚Æ‚¢‚Â‚ÄŽlŒÜ”t‚Å‚â‚ß‚Ü‚µ‚½B\n",
      "---\n",
      "Chunk 4:\n",
      "@‹A‚è‚µ‚È‚ÉŒºŠÖ‚Å‰ö•¨‚Ì‘ —š‚ðŒ©‚Ä‹‚é‹Á‚«‚ÌlX‚ð”F‚ß‚Ü‚µ‚½B @“X‚ðo‚Ä‰ö•¨‚Í‚µ‚æ‚ñ‚×‚ñm”u‚µ‚æ‚ñ‚×‚ñv‚É–T“_n‚ð‚µ‚Ü‚µ‚½B‚í‚ ½‚­‚µ‚à•À‚ñ‚Å‚µ‚Ü‚µ‚½B‚í‚½‚­‚µ‚ÌŒ¨‚Ì•Ó‚©‚ççž‚èo‚é‘¾‚¢…—¬‚Í»—˜‚ÌŽRˆê‚Â” Þ•û‚Ì‘å’n‚Ö—Ž‚¿‚Ü‚µ‚½B‚í‚½‚­‚µ‚Ì‚ÍŽR‚Ì’†• ‚Å‚·B @ˆÅ‚Ì‰¡’¬‚Å‰ö•¨‚Í‹C•t‚¢‚½‚â‚¤‚É‚í‚½‚ ­‚µ‚ÌŒ¨‚ð’@‚« w‚±‚êŒ­‚é‚æŽq‹Ÿ‚ÉŽ‚Â ‚Ä‚¯x‚Æ‘å‚«‚È¶‚©‚çŒÓ“ ‚ðˆê‚ÂŒà‚ê‚Ü‚µ‚½BŒÓ“‚ª‚í‚½‚µ‚ÌŽè‚ÉˆÚ‚é‚Æ‚»‚ê‚Í— ÑŒç‚Å‚µ‚½B‘Š–oê‚Å‚rŽ‚Ì‰œ‚³‚ñ‚ª‚¨• ‚ÉŒü‚Â‚ÄŒ¾‚Â‚½Ž–‚ª¡”Þ‚Ì“ª‚É—˜‚¢‚½‚Ì ‚Å‚µ‚æ‚¤B @‰ö•¨‚ª“dŽÔ‚É æ‚é‚Æ‚¢‚Ó‚©‚çŒ©‚Ä‹ ‚Ü‚µ‚½B‰ö•¨‚ Íæ‚é‚âŽ©•ª‚Ì’è‚Ü‚Â‚½‹ Š‚Ì‚â‚¤‚É‚³‚Â‚³‚ÆŽÔ ¶‘ä‚Ì‰E‚Ö—§‚¿‚Ü‚µ‚½B ’ê–{Fu“ú–{‚Ì–¼•M@•ÊŠª2@‘Š–ovì•iŽÐ @@@1991i•½¬3j”N4ŒŽ25“ú‘æ1ü”­s ’ê–{‚Ìe–{Fuˆê•½‘SW@‘æ‹ã™ÉvæiŽÐ @@@1929iº˜a4j”N8ŒŽ9“ú”­s ¦ŒëA‚ð‹^‚Á‚½‰ÓŠ‚ðAe–{‚Ì•\\‹L‚É‚»‚Á‚ÄA‚ ‚ç‚½‚ß‚Ü‚µ‚½B “ü—ÍF‰YŽR“ÖŽq Z³Fnoriko saito 2023”N4ŒŽ17“ú ì¬ Â‹ó•¶ŒÉ ì¬ƒtƒ@ƒCƒ‹F ‚±‚Ìƒtƒ@ƒCƒ‹‚Í AƒCƒ“ƒ^[ƒlƒbƒg‚Ì}‘ ŠÙAÂ‹ó•¶ŒÉ ihttps://www.aozora.gr.jp/ j‚Åì‚ç‚ê‚Ü‚µ‚½ B“ü—ÍAZ³ A§ì‚É‚ ‚½‚Á‚½‚Ì‚Í Aƒ{ƒ‰ƒ“ƒeƒBƒA‚ÌŠF‚³‚ñ‚Å‚·B\n",
      "---\n",
      "['‰ö•¨‚Æ”Ñ‚ð \\x90H‚Ó˜b ‰ª–{ˆê•½ ------------------------------------------------------- \\x90yƒeƒLƒXƒg’†‚ÉŒ»‚ê‚é‹L \\x90†‚É‚Â‚¢‚Ä\\x90z \\x90s\\x90t\\x90Fƒ‹ƒr \\x90i—á\\x90j‘Å\\x90s‚Ô\\x90t‚Â \\x90b\\x90Fƒ‹ƒr‚Ì•t‚\\xad•¶Žš—ñ‚ÌŽn‚Ü‚è‚ð“Á’è‚·‚é‹L\\x90† \\x90i—á\\x90jˆÊ\\x90bá°–Ê\\x90s‚µ‚¤‚ß‚ñ\\x90t \\x90m\\x90”\\x90n\\x90F“ü—ÍŽÒ’\\x90\\x90@Žå‚ÉŠOŽš‚Ì\\x90à–¾‚â\\x90A–T“_‚ÌˆÊ’u‚ÌŽw’è \\x90i—á\\x90j\\x90m\\x90”‚PŽš‰º‚° \\x90n \\x90^\\x90_\\x90F“ñ”{‚Ì—x‚èŽš\\x90i\\x90u‚\\xad\\x90v‚ð\\x90c‚É’·‚\\xad‚µ‚½‚æ‚¤‚ÈŒ`‚ÌŒJ‚è•Ô‚µ‹L\\x90†\\x90j \\x90i—á\\x90j‚\\xad‚Ç\\x90^\\x90_ ------------------------------------------------------- \\x90m\\x90”‚PŽš‰º‚° \\x90n\\x90ã\\x90m\\x90”\\x90u\\x90ã\\x90v‚Í’†Œ©\\x90o‚µ\\x90n \\x90@Ž€‚ñ‚¾\\x90¬\\x90à‰Æ‚ÌàÕ•à‚Í“ V’n‚É‹Á‚«“x‚¢‚Æ\\x90\\\\‚µ‚Ü‚µ‚½\\x90B‚í‚½‚\\xad‚µ‚Ì‚Í\\x90\\xad‚µˆá‚Ð‚Ü ‚·\\x90BŽž\\x90X•ð‚ê‚é‚â‚¤‚È‚à‚Ì‚É‘Å\\x90s‚Ô\\x90t‚Â‚©‚ç‚Ê‚Æ\\x90¶–½‚ª‹\\x90–°‚è‚ð‚µ‚ÄŽd•‘‚Ó‚Ì‚Å ‚·\\x90B \\x90@‚Ó‚Æ‘Š –o\\x90ê‚Ö\\x90s‚«‚Ü‚µ‚½\\x90B\\x90o‰H›Ô‚Æ‚¢‚Ó—ÍŽm‚Ì”nŽ\\xad\\x90X\\x90X‚µ‚¢‘å‚«‚³‚É\\x90\\xad‚ µ•ð‚ê‚éŽ–‚ª\\x90o—ˆ‚Ü‚µ‚½\\x90B\\x90L‚¢\\x90¢ŠE‚É“¯‚¶\\x90SŽ\\x90‚¿‚Ì\\x90l‚ª‚ ‚é‚©‚à’m‚ê‚Ê\\x90B•ð‚ê‚ð ‚¨•Ÿ•ª‚¯‚·‚é\\x90Ï‚è‚ÅŒÜ˜ Z“ú“y•U\\x90ã‚Ì‰ö•¨‚Ì“® \\x90Ã‚ðŠG‚Å‚¨’m‚ç‚¹‚µ‚Ü‚µ‚½\\x90B \\x90@‚Æ‚±‚ë‚ª‚± \\x90T‚É‰ö•¨‚É\\x90Ð‰î\\x90s‚Ð‚«\\x90t\\x90‡‚¹‚æ‚¤‚Æ‚¢‚Ó\\x90l‚ª\\x90o‚Ü‚µ‚½\\x90B\\x90u‚· ‚ÆˆãŠwŽm‚Å‰Ì\\x90l‚Ì‚rŽ\\x90‚Ì‰œ‚³‚ñ‚Å‚·\\x90B‚rŽ\\x90‚È‚ç‚Î‚í‚½‚\\xad‚µ‚Ì\\x90ó‚¢’m\\x90l‚Å‚µ‚½\\x90B‚» ‚µ‚Ä\\x90o‰H‚Í‚rŽ\\x90‚Ì—¼\\x90e‚ª—{‚ÐŽq‚Æ‚µ‚Äˆ¤‚µˆç‚Ä‚½ŠÖŒW‚Ì—ÍŽm‚¾‚³‚¤‚Å‚·\\x90B•ð‚ê‚ð\\x90[‚ß ‚éˆ×‚ß‚í‚½‚\\xad‚µ‚Íˆê‹c‚É‹y‚Î‚¸\\x90³’m’v‚µ‚Ü‚µ‚½\\x90B \\x90@\\x90¼‚Ì\\x90T‚Ö•”‰®‚Ö\\x90s‚\\xad‚Æ‰ö•¨‚Í\\x90¡“y•U‚©‚ç\\x90ã‚ª‚Â‚½‚Æ‚±‚ë‚Å‚· \\x90B‰œ‚³‚ñ‚ª‚í ‚½‚\\xad‚µ‚ð\\x90Ð‰î‚µ‚Ä‚à‰ö•¨‚Í‚¨Ž«‹ V‚ð‚µ‚Ü‚¹‚ñ\\x90B—y‚ ©\\x90ã‚Ì•û‚Å“ï‚©‚µ‚¢Šç‚ð‚µ‚Ä‚é‚ç‚µ‚¢‚Ì‚ª‹ÂŒü‚ \\xad‚Æ‚â‚Â‚Æ”` \\x90s‚¤‚©\\x90U\\x90t‚Í‚ê‚Ü‚·\\x90B‰œ‚³‚ñ‚ª‰ö•¨‚Ì‘å‚«‚È‚¨• ‚ÉŒü‚Â‚ÄŒ¾‚Ð‚Ü‚µ‚½\\x90B\\x90w•¶Ž¡\\x90A‚¨‘OŽ¸— ç‚Å‚Í‚È‚¢‚©‚¢ \\x90B‰½‚Æ‚©Œäˆ¥ŽA‚ð\\x90\\\\\\x90ã‚°‚È\\x90x‚Æ‚»‚±‚Å‚â‚Â‚Æ\\x90ã‚Ì•û‚Å\\x90…’ê‚Ì” j\\x90à\\x90s‚â‚Ô‚ê‚ª‚Ë\\x90t‚Ì‚â‚¤‚È\\x90º‚ª‚µ‚Ü‚µ‚½\\x90B\\x90w\\x90V•·‚ÉŠG‚ð•`‚¢‚ÄŒà‚ê‚Ë‚¦•û‚ª‚¦ \\x90T‚ æ‹C‚É‚È‚Â‚Ä—Í‚ª\\x90o‚Ë‚¦\\x90x\\x90¬’ö”Þ‚Í \\x90Ÿ\\x90ê\\x90Š•‰‚¯‚ñ‚ª‚±‚ñ‚Å‹ \\x90‚Ü‚µ‚½\\x90B‚í‚½‚\\xad‚µ‚', 'Í\\x90Î‚Ð‚Ü‚µ‚½ \\x90B‰œ‚³‚ñ‚Í‚Î‚Â\\x90m\\x90”\\x90u‚Î‚Â\\x90v‚É–T“_\\x90n‚ð\\x90m\\x90”\\x90u‰œ‚³‚ñ‚Í‚Î‚ Â\\x90m\\x90”\\x90u‚Î‚Â\\x90v‚É–T“_\\x90n‚ð\\x90v‚Í’ê–{‚Å‚Í\\x90u‰œ‚³‚ñ‚Í‚Î\\x90m\\x90”\\x90u‚Í‚Î\\x90v‚É–T“ _\\x90n‚Â‚ð\\x90v\\x90nˆ«‚\\xad‚µ‚Ä‚»‚ê‚©‚çæx\\x90X\\x90s‚\\xad‚Ç\\x90^\\x90_\\x90t‚Æ‚¨• ‚ÉŒü‚Ð\\x90l‹C\\x90¤”„‚Ì—ÍŽm‚ Í’N\\x90l\\x90s‚¾‚ê\\x90t‚É‚àˆ¤‘z‚æ‚\\xad‚·‚×‚«‚à‚Ì\\x90T—R\\x90s‚æ‚µ\\x90t‚ðŒ¾‚Ð•·‚©‚¹‚Ü‚µ‚½\\x90B‰œ‚³ ‚ñ‚Í\\x90—‚Æ‚µ‚Ä’á‚¢•û‚Å‚Í‚ ‚è‚Ü‚¹‚È‚ñ‚¾\\x90B‚»‚ê‚Å‹\\x90‚ÄŠç‚ÌŒü‚«\\x90‡‚Ó‚Æ‚±‚ë‚Í’š“x ‰ö•¨‚Ì‚¨• ‚Å‚·\\x90B‚¨• ‚ÉŒü‚Â‚Ä‰]‚Ð•·‚©‚µ‚½Œ¾—t‚ª‚¢‚Â‰ö•¨‚Ì“ª‚Ü‚Å“`‚Í‚é‚â‚ çŠo‘©‚È‚¢‚Æ‚í‚½‚\\xad‚µ‚ÍŽv‚Ð‚Ü‚µ‚½ \\x90B \\x90@‰ö•¨‚ð —U‚Â‚ÄŽ©“®ŽÔ‚É \\x90æ‚è‚Ü‚µ‚½ \\x90BŽ©“®ŽÔ‚Ì’†‚Ì‰ö•¨‚Í’š“ x•Ù“–” ‚É‘ò ˆÁ’Ð‚ð“ñ‚Â‚É‹È‚°‚Ä“ü‚ê‚½Œ`‚Å‚µ‚½\\x90B‚»‚µ‚Ä‚í‚½‚\\xad‚µ‚Í‚»‚ÌŒ„ŠÔ‚Ì‚Â‚ß‚Å‚·\\x90B\\x90_“ c–¾\\x90_‘O‚ÅŽ©“®ŽÔ‚Ì“d“”‚ª‘ Ê–Ú‚É‚È‚è‚Ü‚µ‚½\\x90B‘¼‚ÌŽÔ‚ðŒÙ‚Í‚¹‚éˆ×‚ß‰^“ ]Žè‚ð’y‚ç‚¹‚½\\x90B\\x90~ŽÔ\\x90s‚¨‚è\\x90t‚Ä‰ö•¨‚ ÍˆÅ‚Ì’†‚ÌŽ©“®ŽÔ‚ÌŽüˆÍ‚ðŠß‹ï‚Ì‚â‚¤‚É•¨’¿‚ç‚µ‚ \\xad•\\x90‚Å‰ô‚µ‚Ü‚µ‚½\\x90B\\x90i‚ñ‚Å‰^“ ]Žè‘ä‚Ì‹ @ŠB‚ÉŽw‚ð\\x90G‚ê‚é‚Æ\\x90w‚ ‚¿\\x90c\\x90c\\x90x‚Æ‹Á‚«‚Ü‚µ‚½\\x90B‚»‚ê‚©‚ç‚É‚â‚è‚ Æ\\x90Î‚Â‚Ä\\x90w‚±\\x90T”M‚¢‚¼\\x90B\\x90G‚Â‚ÄŒ©‚ë\\x90x‚ÆŒ¾‚Ð‚Ü‚µ‚½\\x90B‚í‚½‚\\xad‚µ‚Í‚»‚ê‚æ‚è‰ö•¨‚ª Šñ‚è‚©\\x90T‚éˆ×‚ßŽÔ‚ªŒX‚¢‚ÅƒSƒ€‚Ìƒ^ƒCƒ„‚ª‚Ç‚ÌˆÊ \\x90bá°–Ê\\x90s‚µ‚¤‚ß‚ñ\\x90t\\x90ì‚é‚©‚É‹» – ¡‚ðŽ\\x90‚¿‚Ü‚µ‚½\\x90B‚Å‰ö•¨‚Íˆê\\x90l‚ÅŒJ•Ô‚µŽw‚ð\\x90¬‚³‚È”M\\x90Š‚Ö\\x90G‚ê‚Ä‚Í”M‚ª‚Â‚Ä‹\\x90‚Ü ‚·\\x90B‘R‚µ‘å‚«‚ÈŠç‚É‚Íˆ¤•¨‚ð˜M‚éŽž‚Ì‚â‚¤‚È–£‚¹‚ç‚ê‚½”÷\\x90Î‚ª\\x90ã‚ª‚Â‚Ä‹ \\x90‚Ü‚µ‚½ \\x90B‚Ó‚Æˆê‚Â‚Ì\\x90lˆÄ‚ª‚í‚½‚\\xad‚µ‚Ì“ª‚É‘M‚«‚Ü‚µ‚½\\x90B‹\\x90\\x90l‚Í‹p‚Â‚Ä\\x90¬\\x90sƒvƒ`\\x90[\\x90t‚Æ‚ ¢‚ÓŽ–‚ÉˆÙ\\x90í‚Èˆ¤’…‚ ðŽ\\x90‚Â‚à‚Ì‚Å‚Í‚È‚¢‚©‚Æ\\x90B \\x90@–{‹½‚Ì\\x90w–L\\x90‘\\x90x‚Ö’…‚«‚Ü‚µ‚½\\x90B‰ö•¨‚Í‘\\x90‘¬\\x90À•~‚Ì•~‹\\x90‚É‘«‚ð“Š‚°\\x90o‚ µä©”™‚Æ’ë‚Ì\\x90Â—t‚É‰f‚é“d“”‚ð’\\xad‚ß\\x90o‚µ‚Ü‚µ‚½\\x90B‚±\\x90T‚Å“ñ‚Â‚Ì”÷ \\x90Î‚·‚×‚«Ž –\\x90Û‚ðŒ©“¦‚µ‚Ä‚Í‚È‚è‚Ü‚¹‚ñ \\x90B‹|‚È‚è‚É‹È‚Â‚½\\x90áŽq‚Æ\\x90K‚Ì‰º‚ÉˆóŽ†’ö‚ ÉŒ©‚ä‚é\\x90ÀŠ—’c‚Æ\\x90B \\x90m\\x90”‚PŽš‰º‚° \\x90n‰º\\x90m\\x90”\\x90u‰º\\x90v‚Í’†Œ©\\x90o‚µ\\x90n \\x90@\\x90H‚à‚Ì‚âˆù‚à‚Ì‚ª—ˆ‚Ü‚µ‚½\\x90B‰ö•¨‚Í\\x90¬—kŽ}‚Ì‚â‚¤‚ÉŒ©‚ä‚éŽè‚Ì”¢‚ðŠí—p‚É‘€‚è“ ç‚Ì‹\\x90“÷‚ðŽÏ‚É‚©‚©‚è‚Ü‚µ‚½\\x90B\\x90—’†‚ªƒTƒCƒ_\\x90[‚ð”²‚«\\x90AƒRƒbƒv‚Ö’u‚«\\x90m\\x90”\\x90u ’u‚«\\x90v‚É–T“_\\x90n’\\x90‚¬‚É‚·‚é‚Ì‚ðŒ©‚Ä‰ö•¨‚Í‹}‚¢‚ÅšÞ‚ð’D‚ÐŽæ‚è\\x90w‚³‚¤‚â‚Â‚¿‚âŽ¸', '—ç‚¾‚¼\\x90x‚Æ‰ü‚ß‚Ä‚í‚½‚\\xad‚µ‚É‹ó‚ÌƒRƒbƒv‚ðŽ \\x90‚½‚¹\\x90A‚»‚ê‚©‚çƒTƒCƒ_\\x90[‚ð’\\x90‚¢‚ÅŒà‚ê‚ Ü‚µ‚½\\x90B‰ö•¨‚É‚±‚ñ‚È‚±‚Ü‚©‚¢\\x90íŽ¯‚ª‚ ‚é‚Æ‚ÍŽv‚ÐŠñ‚è‚Ü‚¹‚ñ‚Å‚µ‚½\\x90B \\x90@“÷‚ÍŽÏ‚¦‚Ä —ˆ‚Ü‚µ‚½\\x90B‚í‚½‚\\xad‚µ‚Í‰ö•¨‚ª‚Ç‚Ì‚â‚¤‚É‘å\\x90H‚·‚é‚¾‚ç‚¤\\x90A‚»‚ê‚ð\\x90S ‘Ò‚¿‚É’\\x90ˆÓ‚ð‘Ó‚ç‚¸Ž©•ª‚Ì”¢‚ð‰^‚Ñ‚Ü‚µ‚½\\x90B‚¯‚ê‚Ç‚à‰ö•¨‚Í\\x90`‚Ì–¡‚ð\\x90l‚Ö‚½‚è “÷‚Æ”K‚Æ‚Ì”z \\x90‡‚ð’ö‚æ‚\\xad\\x90®‚Ö‚½‚è\\x90A‰Â\\x90Î‚µ‚È’ö \\x90l‚È‚Ý‚ÌŽ–‚ð’v‚µ‚Ä‚Ü‚·\\x90B \\x90@‚í‚½‚\\xad‚µ‚ÍŠ¬‚ÖŒ“‚Ä \\x90wŒN\\x90\\xad‚µ\\x90H‚×‚ÄŒ©‚¹‚ÄŒà‚ê‚È‚¢‚©\\x90B‚»‚Ì\\x90Ï‚è‚Å— ˆ‚½‚Ì‚¾‚©‚ç \\x90x‚È‚¼—U‚Ð‚ð‚©‚¯‚Ü‚µ‚½\\x90B‰ö•¨‚Í\\x90\\xad‚µ–Ê”’‚\\xad‚È‚¢Šç‚ð‚µ‚Ä\\x90w‚í‚µ‚ª‘ å\\x90H‚¾‚Æ‚Ä‚±‚ÌŠÔ‚à‹ã\\x90B‚©‚ç‚Ì‹A‚è‚Ì‹DŽÔ‚Åƒoƒi\\x90R‚ð“ñŠÑ–Ú\\x90H‚×‚½‚È‚¼‚Æ \\x90\\x90’®‚³‚ ê‚½‚ª‚»‚ñ‚È‚É‚Í\\x90H‚×‚ç‚ê‚ñ‚í\\x90B“Œ‹ž‚Ö’…‚¢‚½Žž‚Ü‚¾”ª•S–Ú‚àŽc‚Â‚Ä‚½\\x90x‚Æ•Ù‰ð‚µ‚Ü‚µ‚½\\x90B˜b‚ð”½‚ç‚·‚â‚¤‚É\\x90w‚»‚Ì‹DŽÔ‚Ì’†‚Å –Ê”’‚©‚Â‚½‚¼ \\x90A“cŽÉ‚Ì‹q\\x90l‚ª \\x90Œ‚Â‚Ä‚Ì‚¤ \\x90Bæo‚Ö‚½ƒIƒ€ƒŒ\\x90m\\x90”\\x90uƒIƒ€ƒŒ\\x90v‚É–T“_\\x90nƒ`\\x90m\\x90”\\x90uƒ`\\x90v‚É”’ ŽOŠp–T“_\\x90n‚Ì’†‚ÖŠç‚ð“Ë‚Â\\x90ž‚ñ‚Å\\x90Q‚Ä‚µ‚Ü‚Â‚½\\x90x‚í‚½‚\\xad‚µ\\x90w‚ ‚é\\x90e•û‚ª˜b‚µ‚½‚Ì ‚¾‚ª‚Ë\\x90BŒN‚Í‚»‚ñ‚È‚É‚¤‚Ü‚\\xad‚È‚\\xad‚Ä‚à‚¢\\x90T\\x90A“e‚ÉŠp•\\x90’Ê‚É‘Š–o‚ÌˆêŽè‚ðŠo‚ ¦\\x90ž‚ñ‚¾‚ç‘ŠŽè‚É —§‚Â“G‚Í–³‚¢‚Æ‚¢‚Â‚Ä‚½‚ª‚Ç‚¤‚¾‚Ë\\x90B–ˆ“ú‚ ‚Ü‚èŒÅ‚\\xad‚È‚è‰ß‚¬‚â‚µ ‚È‚¢‚©\\x90x \\x90w‚í‚µ‚ÍŽd \\x90Ø‚Â‚Ä‚éŽž‚É‚Ì‚¤ \\x90BŽüˆÍ\\x90s‚Ü‚Í‚è\\x90t‚ÅŒ©•¨‚Ì‚í‚ ‚Æ‚¢‚Ó\\x90º‚ª‚·‚é‚Æ‚ Ç‚¤‚µ‚Ä‚à —§‚Ä‚ñ‚Å \\x90B‚»‚ê‚É’m‚Â‚½\\x90l‚ÌŠç‚ªŽV•~‚ÉŒ©‚¦‚é‚Æ‚à‚¤‚¢‚©‚ñ‚Ë\\x90B‘Ê–Ú‚¾\\x90x ‰ö•¨ˆÄŠO‹C‚ªŽã‚¢\\x90B˜b‚Ì\\x90AŠÔ‚É“¯\\x90È‚Ì”N”z‚Ì‚ ‚é‰œ‚³‚ñ‚ª‰ö•¨‚Ì‘Ñ‚É•ð‚ê‚Ä‹ \\x90‚Ü‚·\\x90B‚í‚½‚\\xad‚µ\\x90wŒN‚Í‹\\x90‚«‚È\\x90g‘Ì‚Ìˆ×‚ß‚É‚Ó‚¾‚ñ‚Ì•é‚ç‚µ•û‚É•sŽ©—R‚È\\x90ˆ‚Í–³‚¢‚ ©‚Ë\\x90x‰ö•¨\\x90w–³‚¢‚æ\\x90x‰ö•¨‚Í‚±\\x90T‚Å–”˜b‚ð”½‚ç‚·‚â‚¤‚É \\x90w‹\\x90“÷‚ÌŽO–‡“÷‚ ð–¡—Ò‚Æ\\x90Ý–û‚Æ\\x90¶›I‚É’Ð‚¯‚Ä‚»‚ê‚©‚ç\\x90¶Ž†\\x90s‚«‚ª‚Ý\\x90t‚Ì\\x90ã‚Å\\x90Ä‚¢‚Ä\\x90H‚Ó‚Æ”ü–¡ ‚¢‚¼\\x90x‰ö•¨‚Í”Þ‚Ì\\x90g‘Ì‚ÌˆÙ\\x90í‚È‚é‘å \\x90H‚ÌŽ–‚É\\x90G‚ê‚ç‚ê‚éŽ–‚Í\\x90ˆ\\x90—‚Ì’p‚ðŠo‚¦‚ é‚ç‚µ‚¢‚Ì‚Å‚·‚©‚ç‚È‚é\\x90ä‚¯\\x90l•À‚ÌŒ¾\\x90s‚ð“w‚ß‚½‚ª‚é‚Ì‚Å‚µ‚æ‚¤\\x90B‘R‚µ“÷‚Í’ i\\x90XŽÏ‚Ä\\x90s‚Â‚Ä“ç‚ÉŽR‚Æ\\x90Ï‚Ý‚»‚ê‚©‚ç‚í‚½‚ \\xad‚µ‚É\\x90w‚³‚ \\x90A”Ñ\\x90A\\x90H‚×‚ë\\x90x‚Æ\\x90\\\\‚µ‚ Ü‚µ‚½‚Ì‚Í\\x90¢‚É\\x90Šˆà\\x90s‚¢‚Í‚ä‚é\\x90t–â‚Ó‚É—Ž‚¿‚¸Œê‚é‚É—Ž‚Â‚Ì—Þ‚Å‚Í‚È‚¢‚Å‚µ‚æ‚¤‚©\\x90B‰ ö•¨‚Í•”‰®‚Å\\x90H‚×‚Ä—ˆ‚½‚Æ‚¢‚Â‚ÄŽlŒÜ”t‚Å‚â‚ß‚Ü‚µ‚½\\x90B', '\\x90@‹A‚è‚µ‚È‚ÉŒºŠÖ‚Å‰ö•¨‚Ì‘ \\x90—š‚ðŒ©‚Ä‹\\x90‚é‹Á‚«‚Ì\\x90l\\x90X‚ð”F‚ß‚Ü‚µ‚½\\x90B \\x90@“X‚ð\\x90o‚Ä‰ö•¨‚Í‚µ‚æ‚ñ‚×‚ñ\\x90m\\x90”\\x90u‚µ‚æ‚ñ‚×‚ñ\\x90v‚É–T“_\\x90n‚ð‚µ‚Ü‚µ‚½\\x90B‚í‚ ½‚\\xad‚µ‚à•À‚ñ‚Å‚µ‚Ü‚µ‚½\\x90B‚í‚½‚\\xad‚µ‚ÌŒ¨‚Ì•Ó‚©‚ççž‚è\\x90o‚é‘¾‚¢\\x90…—¬‚Í\\x90»—˜‚ÌŽRˆê‚Â” Þ•û‚Ì‘å’n‚Ö—Ž‚¿‚Ü‚µ‚½\\x90B‚í‚½‚\\xad‚µ‚Ì‚ÍŽR‚Ì’†• ‚Å‚·\\x90B \\x90@ˆÅ‚Ì‰¡’¬‚Å‰ö•¨‚Í‹C•t‚¢‚½‚â‚¤‚É‚í‚½‚ \\xad‚µ‚ÌŒ¨‚ð’@‚« \\x90w‚±‚êŒ\\xad‚é‚æŽq‹Ÿ‚ÉŽ\\x90‚Â ‚Ä‚¯\\x90x‚Æ‘å‚«‚È\\x90¶‚©‚çŒÓ“ \\x90‚ðˆê‚ÂŒà‚ê‚Ü‚µ‚½\\x90BŒÓ“\\x90‚ª‚í‚½‚µ‚ÌŽè‚ÉˆÚ‚é‚Æ‚»‚ê‚Í— ÑŒç‚Å‚µ‚½\\x90B‘Š–o\\x90ê‚Å‚rŽ\\x90‚Ì‰œ‚³‚ñ‚ª‚¨• ‚ÉŒü‚Â‚ÄŒ¾‚Â‚½Ž–‚ª\\x90¡”Þ‚Ì“ª‚É—˜‚¢‚½‚Ì ‚Å‚µ‚æ‚¤\\x90B \\x90@‰ö•¨‚ª“dŽÔ‚É \\x90æ‚é‚Æ‚¢‚Ó‚©‚çŒ©‚Ä‹ \\x90‚Ü‚µ‚½\\x90B‰ö•¨‚ Í\\x90æ‚é‚âŽ©•ª‚Ì’è‚Ü‚Â‚½‹ \\x90\\x90Š‚Ì‚â‚¤‚É‚³‚Â‚³‚ÆŽÔ \\x90¶‘ä‚Ì‰E‚Ö—§‚¿‚Ü‚µ‚½\\x90B ’ê–{\\x90F\\x90u“ú–{‚Ì–¼\\x90\\x90•M\\x90@•ÊŠª2\\x90@‘Š–o\\x90v\\x90ì•iŽÐ \\x90@\\x90@\\x90@1991\\x90i•½\\x90¬3\\x90j”N4ŒŽ25“ú‘æ1\\x90ü”\\xad\\x90s ’ê–{‚Ì\\x90e–{\\x90F\\x90uˆê•½‘S\\x90W\\x90@‘æ‹ã™É\\x90v\\x90æ\\x90iŽÐ \\x90@\\x90@\\x90@1929\\x90i\\x90º˜a4\\x90j”N8ŒŽ9“ú”\\xad\\x90s \\x90¦Œë\\x90A‚ð‹^‚Á‚½‰Ó\\x90Š‚ð\\x90A\\x90e–{‚Ì•\\\\‹L‚É‚»‚Á‚Ä\\x90A‚ ‚ç‚½‚ß‚Ü‚µ‚½\\x90B “ü—Í\\x90F‰YŽR“ÖŽq \\x90Z\\x90³\\x90Fnoriko saito 2023”N4ŒŽ17“ú \\x90ì\\x90¬ \\x90Â‹ó•¶ŒÉ \\x90ì\\x90¬ƒtƒ@ƒCƒ‹\\x90F ‚±‚Ìƒtƒ@ƒCƒ‹‚Í \\x90AƒCƒ“ƒ^\\x90[ƒlƒbƒg‚Ì\\x90}\\x90‘ ŠÙ\\x90A\\x90Â‹ó•¶ŒÉ \\x90ihttps://www.aozora.gr.jp/ \\x90j‚Å\\x90ì‚ç‚ê‚Ü‚µ‚½ \\x90B“ü—Í\\x90A\\x90Z\\x90³ \\x90A\\x90§\\x90ì‚É‚ ‚½‚Á‚½‚Ì‚Í \\x90Aƒ{ƒ‰ƒ“ƒeƒBƒA‚ÌŠF‚³‚ñ‚Å‚·\\x90B']\n"
     ]
    }
   ],
   "source": [
    "import PyPDF2\n",
    "import re\n",
    "\n",
    "def read_pdf(file_path):\n",
    "    with open(file_path, 'rb') as file:\n",
    "        pdf_reader = PyPDF2.PdfReader(file)\n",
    "        num_pages = len(pdf_reader.pages)\n",
    "        text_content = ''\n",
    "\n",
    "        for page_number in range(num_pages):\n",
    "            page = pdf_reader.pages[page_number]\n",
    "            text_content += page.extract_text()\n",
    "\n",
    "        return text_content\n",
    "\n",
    "def split_text_into_chunks(text, chunk_size):\n",
    "    # Remove line breaks and extra spaces\n",
    "    text = re.sub(r'\\s+', ' ', text)\n",
    "    \n",
    "    words = text.split(' ')\n",
    "    chunks = []\n",
    "    current_chunk = ''\n",
    "\n",
    "    for word in words:\n",
    "        current_chunk += word + ' '\n",
    "\n",
    "        if len(current_chunk.split(' ')) >= chunk_size:\n",
    "            chunks.append(current_chunk.strip())\n",
    "            current_chunk = ''\n",
    "\n",
    "    # Append the remaining words as the last chunk\n",
    "    if current_chunk:\n",
    "        chunks.append(current_chunk.strip())\n",
    "\n",
    "    return chunks\n",
    "\n",
    "# Specify the path to your PDF file\n",
    "pdf_file_path = 'japan_doc_2.pdf'\n",
    "\n",
    "# Call the read_pdf function with the file path\n",
    "content = read_pdf(pdf_file_path)\n",
    "\n",
    "# Split the content into chunks of 500 words\n",
    "chunk_size = 50\n",
    "chunks = split_text_into_chunks(content, chunk_size)\n",
    "\n",
    "# Print each chunk\n",
    "for i, chunk in enumerate(chunks):\n",
    "    print(f\"Chunk {i + 1}:\")\n",
    "    print(chunk)\n",
    "    print('---')\n",
    "\n",
    "# Store the chunks in a list\n",
    "chunk_list = chunks\n",
    "print(chunk_list)\n"
   ]
  },
  {
   "cell_type": "code",
   "execution_count": 106,
   "id": "5228d00b",
   "metadata": {},
   "outputs": [
    {
     "ename": "IndexError",
     "evalue": "list index out of range",
     "output_type": "error",
     "traceback": [
      "\u001b[1;31m---------------------------------------------------------------------------\u001b[0m",
      "\u001b[1;31mIndexError\u001b[0m                                Traceback (most recent call last)",
      "Cell \u001b[1;32mIn[106], line 1\u001b[0m\n\u001b[1;32m----> 1\u001b[0m \u001b[43mchunk_list\u001b[49m\u001b[43m[\u001b[49m\u001b[38;5;241;43m4\u001b[39;49m\u001b[43m]\u001b[49m\n",
      "\u001b[1;31mIndexError\u001b[0m: list index out of range"
     ]
    }
   ],
   "source": [
    "chunk_list[4]"
   ]
  },
  {
   "cell_type": "code",
   "execution_count": 109,
   "id": "f830ffb6",
   "metadata": {
    "scrolled": false
   },
   "outputs": [
    {
     "ename": "IndexError",
     "evalue": "index out of range in self",
     "output_type": "error",
     "traceback": [
      "\u001b[1;31m---------------------------------------------------------------------------\u001b[0m",
      "\u001b[1;31mIndexError\u001b[0m                                Traceback (most recent call last)",
      "Cell \u001b[1;32mIn[109], line 2\u001b[0m\n\u001b[0;32m      1\u001b[0m src_text \u001b[38;5;241m=\u001b[39m chunk_list[\u001b[38;5;241m1\u001b[39m]\n\u001b[1;32m----> 2\u001b[0m translated \u001b[38;5;241m=\u001b[39m model\u001b[38;5;241m.\u001b[39mgenerate(\u001b[38;5;241m*\u001b[39m\u001b[38;5;241m*\u001b[39mtokenizer(src_text, return_tensors\u001b[38;5;241m=\u001b[39m\u001b[38;5;124m\"\u001b[39m\u001b[38;5;124mpt\u001b[39m\u001b[38;5;124m\"\u001b[39m, padding\u001b[38;5;241m=\u001b[39m\u001b[38;5;28;01mTrue\u001b[39;00m))\n\u001b[0;32m      4\u001b[0m \u001b[38;5;28;01mfor\u001b[39;00m t \u001b[38;5;129;01min\u001b[39;00m translated:\n\u001b[0;32m      5\u001b[0m     \u001b[38;5;28mprint\u001b[39m(tokenizer\u001b[38;5;241m.\u001b[39mdecode(t, skip_special_tokens\u001b[38;5;241m=\u001b[39m\u001b[38;5;28;01mTrue\u001b[39;00m) )\n",
      "File \u001b[1;32m~\\anaconda3\\lib\\site-packages\\torch\\autograd\\grad_mode.py:27\u001b[0m, in \u001b[0;36m_DecoratorContextManager.__call__.<locals>.decorate_context\u001b[1;34m(*args, **kwargs)\u001b[0m\n\u001b[0;32m     24\u001b[0m \u001b[38;5;129m@functools\u001b[39m\u001b[38;5;241m.\u001b[39mwraps(func)\n\u001b[0;32m     25\u001b[0m \u001b[38;5;28;01mdef\u001b[39;00m \u001b[38;5;21mdecorate_context\u001b[39m(\u001b[38;5;241m*\u001b[39margs, \u001b[38;5;241m*\u001b[39m\u001b[38;5;241m*\u001b[39mkwargs):\n\u001b[0;32m     26\u001b[0m     \u001b[38;5;28;01mwith\u001b[39;00m \u001b[38;5;28mself\u001b[39m\u001b[38;5;241m.\u001b[39mclone():\n\u001b[1;32m---> 27\u001b[0m         \u001b[38;5;28;01mreturn\u001b[39;00m func(\u001b[38;5;241m*\u001b[39margs, \u001b[38;5;241m*\u001b[39m\u001b[38;5;241m*\u001b[39mkwargs)\n",
      "File \u001b[1;32m~\\anaconda3\\lib\\site-packages\\transformers\\generation\\utils.py:1322\u001b[0m, in \u001b[0;36mGenerationMixin.generate\u001b[1;34m(self, inputs, generation_config, logits_processor, stopping_criteria, prefix_allowed_tokens_fn, synced_gpus, assistant_model, streamer, **kwargs)\u001b[0m\n\u001b[0;32m   1314\u001b[0m         logger\u001b[38;5;241m.\u001b[39mwarning(\n\u001b[0;32m   1315\u001b[0m             \u001b[38;5;124m\"\u001b[39m\u001b[38;5;124mA decoder-only architecture is being used, but right-padding was detected! For correct \u001b[39m\u001b[38;5;124m\"\u001b[39m\n\u001b[0;32m   1316\u001b[0m             \u001b[38;5;124m\"\u001b[39m\u001b[38;5;124mgeneration results, please set `padding_side=\u001b[39m\u001b[38;5;124m'\u001b[39m\u001b[38;5;124mleft\u001b[39m\u001b[38;5;124m'\u001b[39m\u001b[38;5;124m` when initializing the tokenizer.\u001b[39m\u001b[38;5;124m\"\u001b[39m\n\u001b[0;32m   1317\u001b[0m         )\n\u001b[0;32m   1319\u001b[0m \u001b[38;5;28;01mif\u001b[39;00m \u001b[38;5;28mself\u001b[39m\u001b[38;5;241m.\u001b[39mconfig\u001b[38;5;241m.\u001b[39mis_encoder_decoder \u001b[38;5;129;01mand\u001b[39;00m \u001b[38;5;124m\"\u001b[39m\u001b[38;5;124mencoder_outputs\u001b[39m\u001b[38;5;124m\"\u001b[39m \u001b[38;5;129;01mnot\u001b[39;00m \u001b[38;5;129;01min\u001b[39;00m model_kwargs:\n\u001b[0;32m   1320\u001b[0m     \u001b[38;5;66;03m# if model is encoder decoder encoder_outputs are created\u001b[39;00m\n\u001b[0;32m   1321\u001b[0m     \u001b[38;5;66;03m# and added to `model_kwargs`\u001b[39;00m\n\u001b[1;32m-> 1322\u001b[0m     model_kwargs \u001b[38;5;241m=\u001b[39m \u001b[38;5;28;43mself\u001b[39;49m\u001b[38;5;241;43m.\u001b[39;49m\u001b[43m_prepare_encoder_decoder_kwargs_for_generation\u001b[49m\u001b[43m(\u001b[49m\n\u001b[0;32m   1323\u001b[0m \u001b[43m        \u001b[49m\u001b[43minputs_tensor\u001b[49m\u001b[43m,\u001b[49m\u001b[43m \u001b[49m\u001b[43mmodel_kwargs\u001b[49m\u001b[43m,\u001b[49m\u001b[43m \u001b[49m\u001b[43mmodel_input_name\u001b[49m\n\u001b[0;32m   1324\u001b[0m \u001b[43m    \u001b[49m\u001b[43m)\u001b[49m\n\u001b[0;32m   1326\u001b[0m \u001b[38;5;66;03m# 5. Prepare `input_ids` which will be used for auto-regressive generation\u001b[39;00m\n\u001b[0;32m   1327\u001b[0m \u001b[38;5;28;01mif\u001b[39;00m \u001b[38;5;28mself\u001b[39m\u001b[38;5;241m.\u001b[39mconfig\u001b[38;5;241m.\u001b[39mis_encoder_decoder:\n",
      "File \u001b[1;32m~\\anaconda3\\lib\\site-packages\\transformers\\generation\\utils.py:638\u001b[0m, in \u001b[0;36mGenerationMixin._prepare_encoder_decoder_kwargs_for_generation\u001b[1;34m(self, inputs_tensor, model_kwargs, model_input_name)\u001b[0m\n\u001b[0;32m    636\u001b[0m encoder_kwargs[\u001b[38;5;124m\"\u001b[39m\u001b[38;5;124mreturn_dict\u001b[39m\u001b[38;5;124m\"\u001b[39m] \u001b[38;5;241m=\u001b[39m \u001b[38;5;28;01mTrue\u001b[39;00m\n\u001b[0;32m    637\u001b[0m encoder_kwargs[model_input_name] \u001b[38;5;241m=\u001b[39m inputs_tensor\n\u001b[1;32m--> 638\u001b[0m model_kwargs[\u001b[38;5;124m\"\u001b[39m\u001b[38;5;124mencoder_outputs\u001b[39m\u001b[38;5;124m\"\u001b[39m]: ModelOutput \u001b[38;5;241m=\u001b[39m encoder(\u001b[38;5;241m*\u001b[39m\u001b[38;5;241m*\u001b[39mencoder_kwargs)\n\u001b[0;32m    640\u001b[0m \u001b[38;5;28;01mreturn\u001b[39;00m model_kwargs\n",
      "File \u001b[1;32m~\\anaconda3\\lib\\site-packages\\torch\\nn\\modules\\module.py:1194\u001b[0m, in \u001b[0;36mModule._call_impl\u001b[1;34m(self, *input, **kwargs)\u001b[0m\n\u001b[0;32m   1190\u001b[0m \u001b[38;5;66;03m# If we don't have any hooks, we want to skip the rest of the logic in\u001b[39;00m\n\u001b[0;32m   1191\u001b[0m \u001b[38;5;66;03m# this function, and just call forward.\u001b[39;00m\n\u001b[0;32m   1192\u001b[0m \u001b[38;5;28;01mif\u001b[39;00m \u001b[38;5;129;01mnot\u001b[39;00m (\u001b[38;5;28mself\u001b[39m\u001b[38;5;241m.\u001b[39m_backward_hooks \u001b[38;5;129;01mor\u001b[39;00m \u001b[38;5;28mself\u001b[39m\u001b[38;5;241m.\u001b[39m_forward_hooks \u001b[38;5;129;01mor\u001b[39;00m \u001b[38;5;28mself\u001b[39m\u001b[38;5;241m.\u001b[39m_forward_pre_hooks \u001b[38;5;129;01mor\u001b[39;00m _global_backward_hooks\n\u001b[0;32m   1193\u001b[0m         \u001b[38;5;129;01mor\u001b[39;00m _global_forward_hooks \u001b[38;5;129;01mor\u001b[39;00m _global_forward_pre_hooks):\n\u001b[1;32m-> 1194\u001b[0m     \u001b[38;5;28;01mreturn\u001b[39;00m forward_call(\u001b[38;5;241m*\u001b[39m\u001b[38;5;28minput\u001b[39m, \u001b[38;5;241m*\u001b[39m\u001b[38;5;241m*\u001b[39mkwargs)\n\u001b[0;32m   1195\u001b[0m \u001b[38;5;66;03m# Do not call functions when jit is used\u001b[39;00m\n\u001b[0;32m   1196\u001b[0m full_backward_hooks, non_full_backward_hooks \u001b[38;5;241m=\u001b[39m [], []\n",
      "File \u001b[1;32m~\\anaconda3\\lib\\site-packages\\transformers\\models\\marian\\modeling_marian.py:759\u001b[0m, in \u001b[0;36mMarianEncoder.forward\u001b[1;34m(self, input_ids, attention_mask, head_mask, inputs_embeds, output_attentions, output_hidden_states, return_dict)\u001b[0m\n\u001b[0;32m    756\u001b[0m \u001b[38;5;28;01mif\u001b[39;00m inputs_embeds \u001b[38;5;129;01mis\u001b[39;00m \u001b[38;5;28;01mNone\u001b[39;00m:\n\u001b[0;32m    757\u001b[0m     inputs_embeds \u001b[38;5;241m=\u001b[39m \u001b[38;5;28mself\u001b[39m\u001b[38;5;241m.\u001b[39membed_tokens(input_ids) \u001b[38;5;241m*\u001b[39m \u001b[38;5;28mself\u001b[39m\u001b[38;5;241m.\u001b[39membed_scale\n\u001b[1;32m--> 759\u001b[0m embed_pos \u001b[38;5;241m=\u001b[39m \u001b[38;5;28;43mself\u001b[39;49m\u001b[38;5;241;43m.\u001b[39;49m\u001b[43membed_positions\u001b[49m\u001b[43m(\u001b[49m\u001b[43minput_shape\u001b[49m\u001b[43m)\u001b[49m\n\u001b[0;32m    761\u001b[0m hidden_states \u001b[38;5;241m=\u001b[39m inputs_embeds \u001b[38;5;241m+\u001b[39m embed_pos\n\u001b[0;32m    762\u001b[0m hidden_states \u001b[38;5;241m=\u001b[39m nn\u001b[38;5;241m.\u001b[39mfunctional\u001b[38;5;241m.\u001b[39mdropout(hidden_states, p\u001b[38;5;241m=\u001b[39m\u001b[38;5;28mself\u001b[39m\u001b[38;5;241m.\u001b[39mdropout, training\u001b[38;5;241m=\u001b[39m\u001b[38;5;28mself\u001b[39m\u001b[38;5;241m.\u001b[39mtraining)\n",
      "File \u001b[1;32m~\\anaconda3\\lib\\site-packages\\torch\\nn\\modules\\module.py:1194\u001b[0m, in \u001b[0;36mModule._call_impl\u001b[1;34m(self, *input, **kwargs)\u001b[0m\n\u001b[0;32m   1190\u001b[0m \u001b[38;5;66;03m# If we don't have any hooks, we want to skip the rest of the logic in\u001b[39;00m\n\u001b[0;32m   1191\u001b[0m \u001b[38;5;66;03m# this function, and just call forward.\u001b[39;00m\n\u001b[0;32m   1192\u001b[0m \u001b[38;5;28;01mif\u001b[39;00m \u001b[38;5;129;01mnot\u001b[39;00m (\u001b[38;5;28mself\u001b[39m\u001b[38;5;241m.\u001b[39m_backward_hooks \u001b[38;5;129;01mor\u001b[39;00m \u001b[38;5;28mself\u001b[39m\u001b[38;5;241m.\u001b[39m_forward_hooks \u001b[38;5;129;01mor\u001b[39;00m \u001b[38;5;28mself\u001b[39m\u001b[38;5;241m.\u001b[39m_forward_pre_hooks \u001b[38;5;129;01mor\u001b[39;00m _global_backward_hooks\n\u001b[0;32m   1193\u001b[0m         \u001b[38;5;129;01mor\u001b[39;00m _global_forward_hooks \u001b[38;5;129;01mor\u001b[39;00m _global_forward_pre_hooks):\n\u001b[1;32m-> 1194\u001b[0m     \u001b[38;5;28;01mreturn\u001b[39;00m forward_call(\u001b[38;5;241m*\u001b[39m\u001b[38;5;28minput\u001b[39m, \u001b[38;5;241m*\u001b[39m\u001b[38;5;241m*\u001b[39mkwargs)\n\u001b[0;32m   1195\u001b[0m \u001b[38;5;66;03m# Do not call functions when jit is used\u001b[39;00m\n\u001b[0;32m   1196\u001b[0m full_backward_hooks, non_full_backward_hooks \u001b[38;5;241m=\u001b[39m [], []\n",
      "File \u001b[1;32m~\\anaconda3\\lib\\site-packages\\torch\\autograd\\grad_mode.py:27\u001b[0m, in \u001b[0;36m_DecoratorContextManager.__call__.<locals>.decorate_context\u001b[1;34m(*args, **kwargs)\u001b[0m\n\u001b[0;32m     24\u001b[0m \u001b[38;5;129m@functools\u001b[39m\u001b[38;5;241m.\u001b[39mwraps(func)\n\u001b[0;32m     25\u001b[0m \u001b[38;5;28;01mdef\u001b[39;00m \u001b[38;5;21mdecorate_context\u001b[39m(\u001b[38;5;241m*\u001b[39margs, \u001b[38;5;241m*\u001b[39m\u001b[38;5;241m*\u001b[39mkwargs):\n\u001b[0;32m     26\u001b[0m     \u001b[38;5;28;01mwith\u001b[39;00m \u001b[38;5;28mself\u001b[39m\u001b[38;5;241m.\u001b[39mclone():\n\u001b[1;32m---> 27\u001b[0m         \u001b[38;5;28;01mreturn\u001b[39;00m func(\u001b[38;5;241m*\u001b[39margs, \u001b[38;5;241m*\u001b[39m\u001b[38;5;241m*\u001b[39mkwargs)\n",
      "File \u001b[1;32m~\\anaconda3\\lib\\site-packages\\transformers\\models\\marian\\modeling_marian.py:141\u001b[0m, in \u001b[0;36mMarianSinusoidalPositionalEmbedding.forward\u001b[1;34m(self, input_ids_shape, past_key_values_length)\u001b[0m\n\u001b[0;32m    137\u001b[0m bsz, seq_len \u001b[38;5;241m=\u001b[39m input_ids_shape[:\u001b[38;5;241m2\u001b[39m]\n\u001b[0;32m    138\u001b[0m positions \u001b[38;5;241m=\u001b[39m torch\u001b[38;5;241m.\u001b[39marange(\n\u001b[0;32m    139\u001b[0m     past_key_values_length, past_key_values_length \u001b[38;5;241m+\u001b[39m seq_len, dtype\u001b[38;5;241m=\u001b[39mtorch\u001b[38;5;241m.\u001b[39mlong, device\u001b[38;5;241m=\u001b[39m\u001b[38;5;28mself\u001b[39m\u001b[38;5;241m.\u001b[39mweight\u001b[38;5;241m.\u001b[39mdevice\n\u001b[0;32m    140\u001b[0m )\n\u001b[1;32m--> 141\u001b[0m \u001b[38;5;28;01mreturn\u001b[39;00m \u001b[38;5;28;43msuper\u001b[39;49m\u001b[43m(\u001b[49m\u001b[43m)\u001b[49m\u001b[38;5;241;43m.\u001b[39;49m\u001b[43mforward\u001b[49m\u001b[43m(\u001b[49m\u001b[43mpositions\u001b[49m\u001b[43m)\u001b[49m\n",
      "File \u001b[1;32m~\\anaconda3\\lib\\site-packages\\torch\\nn\\modules\\sparse.py:160\u001b[0m, in \u001b[0;36mEmbedding.forward\u001b[1;34m(self, input)\u001b[0m\n\u001b[0;32m    159\u001b[0m \u001b[38;5;28;01mdef\u001b[39;00m \u001b[38;5;21mforward\u001b[39m(\u001b[38;5;28mself\u001b[39m, \u001b[38;5;28minput\u001b[39m: Tensor) \u001b[38;5;241m-\u001b[39m\u001b[38;5;241m>\u001b[39m Tensor:\n\u001b[1;32m--> 160\u001b[0m     \u001b[38;5;28;01mreturn\u001b[39;00m \u001b[43mF\u001b[49m\u001b[38;5;241;43m.\u001b[39;49m\u001b[43membedding\u001b[49m\u001b[43m(\u001b[49m\n\u001b[0;32m    161\u001b[0m \u001b[43m        \u001b[49m\u001b[38;5;28;43minput\u001b[39;49m\u001b[43m,\u001b[49m\u001b[43m \u001b[49m\u001b[38;5;28;43mself\u001b[39;49m\u001b[38;5;241;43m.\u001b[39;49m\u001b[43mweight\u001b[49m\u001b[43m,\u001b[49m\u001b[43m \u001b[49m\u001b[38;5;28;43mself\u001b[39;49m\u001b[38;5;241;43m.\u001b[39;49m\u001b[43mpadding_idx\u001b[49m\u001b[43m,\u001b[49m\u001b[43m \u001b[49m\u001b[38;5;28;43mself\u001b[39;49m\u001b[38;5;241;43m.\u001b[39;49m\u001b[43mmax_norm\u001b[49m\u001b[43m,\u001b[49m\n\u001b[0;32m    162\u001b[0m \u001b[43m        \u001b[49m\u001b[38;5;28;43mself\u001b[39;49m\u001b[38;5;241;43m.\u001b[39;49m\u001b[43mnorm_type\u001b[49m\u001b[43m,\u001b[49m\u001b[43m \u001b[49m\u001b[38;5;28;43mself\u001b[39;49m\u001b[38;5;241;43m.\u001b[39;49m\u001b[43mscale_grad_by_freq\u001b[49m\u001b[43m,\u001b[49m\u001b[43m \u001b[49m\u001b[38;5;28;43mself\u001b[39;49m\u001b[38;5;241;43m.\u001b[39;49m\u001b[43msparse\u001b[49m\u001b[43m)\u001b[49m\n",
      "File \u001b[1;32m~\\anaconda3\\lib\\site-packages\\torch\\nn\\functional.py:2210\u001b[0m, in \u001b[0;36membedding\u001b[1;34m(input, weight, padding_idx, max_norm, norm_type, scale_grad_by_freq, sparse)\u001b[0m\n\u001b[0;32m   2204\u001b[0m     \u001b[38;5;66;03m# Note [embedding_renorm set_grad_enabled]\u001b[39;00m\n\u001b[0;32m   2205\u001b[0m     \u001b[38;5;66;03m# XXX: equivalent to\u001b[39;00m\n\u001b[0;32m   2206\u001b[0m     \u001b[38;5;66;03m# with torch.no_grad():\u001b[39;00m\n\u001b[0;32m   2207\u001b[0m     \u001b[38;5;66;03m#   torch.embedding_renorm_\u001b[39;00m\n\u001b[0;32m   2208\u001b[0m     \u001b[38;5;66;03m# remove once script supports set_grad_enabled\u001b[39;00m\n\u001b[0;32m   2209\u001b[0m     _no_grad_embedding_renorm_(weight, \u001b[38;5;28minput\u001b[39m, max_norm, norm_type)\n\u001b[1;32m-> 2210\u001b[0m \u001b[38;5;28;01mreturn\u001b[39;00m \u001b[43mtorch\u001b[49m\u001b[38;5;241;43m.\u001b[39;49m\u001b[43membedding\u001b[49m\u001b[43m(\u001b[49m\u001b[43mweight\u001b[49m\u001b[43m,\u001b[49m\u001b[43m \u001b[49m\u001b[38;5;28;43minput\u001b[39;49m\u001b[43m,\u001b[49m\u001b[43m \u001b[49m\u001b[43mpadding_idx\u001b[49m\u001b[43m,\u001b[49m\u001b[43m \u001b[49m\u001b[43mscale_grad_by_freq\u001b[49m\u001b[43m,\u001b[49m\u001b[43m \u001b[49m\u001b[43msparse\u001b[49m\u001b[43m)\u001b[49m\n",
      "\u001b[1;31mIndexError\u001b[0m: index out of range in self"
     ]
    }
   ],
   "source": [
    "src_text = chunk_list[1]\n",
    "translated = model.generate(**tokenizer(src_text, return_tensors=\"pt\", padding=True))\n",
    "\n",
    "for t in translated:\n",
    "    print(tokenizer.decode(t, skip_special_tokens=True) )"
   ]
  },
  {
   "cell_type": "code",
   "execution_count": 107,
   "id": "6b61b4b0",
   "metadata": {},
   "outputs": [
    {
     "data": {
      "text/plain": [
       "tensor([[60715,   189,   105,   503,     3,   142,    50,    20,  1028,  1957,\n",
       "             3,  8683,    96,  1688,  2779,     3,    19,   157,   129,   825,\n",
       "            20,  6887,    19,  1145,   225,     2,   637,   426,    50, 48810,\n",
       "             3,    19,    71,    50,    20,   682,   248,   117,  2157,     8,\n",
       "           901,     5,  1957,    19,   211,    54,    20,   372,  4209,     2,\n",
       "           407,    71,   318,    76,   230,   395,     5,  4520,    19,     5,\n",
       "          7475,     3,    71,   480,   150,    20,   767,    11,  8046,    25,\n",
       "           867,   372,  1050,    19,  2420,   228,     8,   453,     5,  5510,\n",
       "            19,   228,     8,   453,    36,     2,     0],\n",
       "        [60715,   189,   105,   503,     3,   142,    50,    20,  1028,  1957,\n",
       "             3,  8683,    96,  1688,  2779,     3,    19,   157,   129,   825,\n",
       "            20,  6887,    19,  1145,   225,     2,   637,   426,    50, 48810,\n",
       "             3,    19,    71,    50,    20,   682,   248,   117,  2157,     8,\n",
       "           901,     5,  1957,    19,   211,    54,    20,   372,  4209,     2,\n",
       "           407,    71,   318,    76,   230,   395,     5,  4520,    19,     5,\n",
       "          7475,     3,    71,   480,   150,    20,   767,    11,  8046,    25,\n",
       "           867,   372,  1050,    19,  2420,   228,     8,   453,     5,  5510,\n",
       "            19,   228,     8,   453,    36,     2,     0],\n",
       "        [60715,   189,   105,   503,     3,   142,    50,    20,  1028,  1957,\n",
       "             3,  8683,    96,  1688,  2779,     3,    19,   157,   129,   825,\n",
       "            20,  6887,    19,  1145,   225,     2,   637,   426,    50, 48810,\n",
       "             3,    19,    71,    50,    20,   682,   248,   117,  2157,     8,\n",
       "           901,     5,  1957,    19,   211,    54,    20,   372,  4209,     2,\n",
       "           407,    71,   318,    76,   230,   395,     5,  4520,    19,     5,\n",
       "          7475,     3,    71,   480,   150,    20,   767,    11,  8046,    25,\n",
       "           867,   372,  1050,    19,  2420,   228,     8,   453,     5,  5510,\n",
       "            19,   228,     8,   453,    36,     2,     0],\n",
       "        [60715,   189,   105,   503,     3,   142,    50,    20,  1028,  1957,\n",
       "             3,  8683,    96,  1688,  2779,     3,    19,   157,   129,   825,\n",
       "            20,  6887,    19,  1145,   225,     2,   637,   426,    50, 48810,\n",
       "             3,    19,    71,    50,    20,   682,   248,   117,  2157,     8,\n",
       "           901,     5,  1957,    19,   211,    54,    20,   372,  4209,     2,\n",
       "           407,    71,   318,    76,   230,   395,     5,  4520,    19,     5,\n",
       "          7475,     3,    71,   480,   150,    20,   767,    11,  8046,    25,\n",
       "           867,   372,  1050,    19,  2420,   228,     8,   453,     5,  5510,\n",
       "            19,   228,     8,   453,    36,     2,     0],\n",
       "        [60715,   189,   105,   503,     3,   142,    50,    20,  1028,  1957,\n",
       "             3,  8683,    96,  1688,  2779,     3,    19,   157,   129,   825,\n",
       "            20,  6887,    19,  1145,   225,     2,   637,   426,    50, 48810,\n",
       "             3,    19,    71,    50,    20,   682,   248,   117,  2157,     8,\n",
       "           901,     5,  1957,    19,   211,    54,    20,   372,  4209,     2,\n",
       "           407,    71,   318,    76,   230,   395,     5,  4520,    19,     5,\n",
       "          7475,     3,    71,   480,   150,    20,   767,    11,  8046,    25,\n",
       "           867,   372,  1050,    19,  2420,   228,     8,   453,     5,  5510,\n",
       "            19,   228,     8,   453,    36,     2,     0],\n",
       "        [60715,   189,   105,   503,     3,   142,    50,    20,  1028,  1957,\n",
       "             3,  8683,    96,  1688,  2779,     3,    19,   157,   129,   825,\n",
       "            20,  6887,    19,  1145,   225,     2,   637,   426,    50, 48810,\n",
       "             3,    19,    71,    50,    20,   682,   248,   117,  2157,     8,\n",
       "           901,     5,  1957,    19,   211,    54,    20,   372,  4209,     2,\n",
       "           407,    71,   318,    76,   230,   395,     5,  4520,    19,     5,\n",
       "          7475,     3,    71,   480,   150,    20,   767,    11,  8046,    25,\n",
       "           867,   372,  1050,    19,  2420,   228,     8,   453,     5,  5510,\n",
       "            19,   228,     8,   453,    36,     2,     0],\n",
       "        [60715,   189,   105,   503,     3,   142,    50,    20,  1028,  1957,\n",
       "             3,  8683,    96,  1688,  2779,     3,    19,   157,   129,   825,\n",
       "            20,  6887,    19,  1145,   225,     2,   637,   426,    50, 48810,\n",
       "             3,    19,    71,    50,    20,   682,   248,   117,  2157,     8,\n",
       "           901,     5,  1957,    19,   211,    54,    20,   372,  4209,     2,\n",
       "           407,    71,   318,    76,   230,   395,     5,  4520,    19,     5,\n",
       "          7475,     3,    71,   480,   150,    20,   767,    11,  8046,    25,\n",
       "           867,   372,  1050,    19,  2420,   228,     8,   453,     5,  5510,\n",
       "            19,   228,     8,   453,    36,     2,     0],\n",
       "        [60715,   189,   105,   503,     3,   142,    50,    20,  1028,  1957,\n",
       "             3,  8683,    96,  1688,  2779,     3,    19,   157,   129,   825,\n",
       "            20,  6887,    19,  1145,   225,     2,   637,   426,    50, 48810,\n",
       "             3,    19,    71,    50,    20,   682,   248,   117,  2157,     8,\n",
       "           901,     5,  1957,    19,   211,    54,    20,   372,  4209,     2,\n",
       "           407,    71,   318,    76,   230,   395,     5,  4520,    19,     5,\n",
       "          7475,     3,    71,   480,   150,    20,   767,    11,  8046,    25,\n",
       "           867,   372,  1050,    19,  2420,   228,     8,   453,     5,  5510,\n",
       "            19,   228,     8,   453,    36,     2,     0],\n",
       "        [60715,   189,   105,   503,     3,   142,    50,    20,  1028,  1957,\n",
       "             3,  8683,    96,  1688,  2779,     3,    19,   157,   129,   825,\n",
       "            20,  6887,    19,  1145,   225,     2,   637,   426,    50, 48810,\n",
       "             3,    19,    71,    50,    20,   682,   248,   117,  2157,     8,\n",
       "           901,     5,  1957,    19,   211,    54,    20,   372,  4209,     2,\n",
       "           407,    71,   318,    76,   230,   395,     5,  4520,    19,     5,\n",
       "          7475,     3,    71,   480,   150,    20,   767,    11,  8046,    25,\n",
       "           867,   372,  1050,    19,  2420,   228,     8,   453,     5,  5510,\n",
       "            19,   228,     8,   453,    36,     2,     0]])"
      ]
     },
     "execution_count": 107,
     "metadata": {},
     "output_type": "execute_result"
    }
   ],
   "source": [
    "translated"
   ]
  },
  {
   "cell_type": "code",
   "execution_count": null,
   "id": "076e38da",
   "metadata": {},
   "outputs": [],
   "source": []
  }
 ],
 "metadata": {
  "kernelspec": {
   "display_name": "Python 3 (ipykernel)",
   "language": "python",
   "name": "python3"
  },
  "language_info": {
   "codemirror_mode": {
    "name": "ipython",
    "version": 3
   },
   "file_extension": ".py",
   "mimetype": "text/x-python",
   "name": "python",
   "nbconvert_exporter": "python",
   "pygments_lexer": "ipython3",
   "version": "3.10.9"
  }
 },
 "nbformat": 4,
 "nbformat_minor": 5
}
