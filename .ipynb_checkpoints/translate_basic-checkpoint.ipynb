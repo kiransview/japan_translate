{
 "cells": [
  {
   "cell_type": "code",
   "execution_count": 37,
   "id": "3a64c4af",
   "metadata": {},
   "outputs": [
    {
     "name": "stdout",
     "output_type": "stream",
     "text": [
      "あるところに、 小さな町がありました。この 町は美しい自然に囲まれており、 人々は平和で\n",
      "幸せな生活を送っていました。  \n",
      " \n",
      "ある日、町に一人の若者が現れました。 彼の名前は太郎といい、 彼は冒険心旺盛 な若者でし\n",
      "た。太郎は町の人々に別れを告げ、新たな旅に出ることを 決めました。  \n",
      " \n",
      "太郎は山々と森を通り抜け、川を渡りながら、さまざまな 場所を訪れました。 彼は知識を深\n",
      "め、新しい友人を作りながら、 多くの困難に立ち向かいました。 太郎は剣の使い方や魔法の\n",
      "秘密を学び、自分自身 を成長させていきました。  \n",
      " \n",
      "数年が経ち、太郎は成熟した冒険者として知られるようになりました。 彼は多くの冒険を経\n",
      "験し、魔物や困難なクエスト を乗り越えてきました。しかし、 彼の心の奥底では、故郷の町\n",
      "と町の人々への思いが忘れられずにいました。  \n",
      " \n",
      "ある日、太郎 は故郷の町へ戻ることを 決意しました。 彼は町の人々に驚きと喜びをもたらし\n",
      "ました。 太郎は町の青年たちに剣の技を教え、若い魔法使いたちと 共に冒険に出かけました\n",
      "。 \n",
      " \n",
      "故郷の町は太郎の帰還によって 活気づき、ますます 繁栄しました。 彼は冒険者としての 名声\n",
      "を手にしながらも、 町の一員としての 誇りを忘れませんでした。  \n",
      " \n",
      "太郎の物語は多くの人々に伝えられ、 彼は英雄として称えられました。 彼の冒険の旅は終わ\n",
      "りを告げましたが、 太郎は町の人々と共に平穏な日々を過ごしました。  \n",
      " \n",
      "この物語は勇気と希望を持つ若者の旅であり、 故郷と愛する人々への情熱を称えるものでし\n",
      "た。太郎の冒険は彼自身だけでなく、 町の未来にも大きな影響を与えました。  \n"
     ]
    }
   ],
   "source": [
    "import PyPDF2\n",
    "\n",
    "def read_pdf(file_path):\n",
    "    with open(file_path, 'rb') as file:\n",
    "        pdf_reader = PyPDF2.PdfReader(file)\n",
    "        num_pages = len(pdf_reader.pages)\n",
    "        text_content = ''\n",
    "\n",
    "        for page_number in range(num_pages):\n",
    "            page = pdf_reader.pages[page_number]\n",
    "            text_content += page.extract_text()\n",
    "\n",
    "        return text_content\n",
    "\n",
    "# Specify the path to your PDF file\n",
    "pdf_file_path = 'japan_story.pdf'\n",
    "\n",
    "# Call the read_pdf function with the file path\n",
    "content = read_pdf(pdf_file_path)\n",
    "\n",
    "# Print the content\n",
    "print(content)"
   ]
  },
  {
   "cell_type": "code",
   "execution_count": null,
   "id": "055d2f85",
   "metadata": {},
   "outputs": [],
   "source": [
    "from transformers import AutoTokenizer, AutoModelForSeq2SeqLM\n",
    "\n",
    "tokenizer = AutoTokenizer.from_pretrained(\"Helsinki-NLP/opus-mt-ja-en\")\n",
    "\n",
    "model = AutoModelForSeq2SeqLM.from_pretrained(\"Helsinki-NLP/opus-mt-ja-en\")"
   ]
  },
  {
   "cell_type": "code",
   "execution_count": 38,
   "id": "c6a2a743",
   "metadata": {},
   "outputs": [
    {
     "name": "stdout",
     "output_type": "stream",
     "text": [
      "In one place, there was a small town, surrounded by beautiful nature, and people were living a peaceful and happy life. His name was Taro, and he was a young man who decided to leave the town and go on a new trip. As he made his way through the mountains and the rivers, he put up a lot of difficulty in making new friends and learning how to use the sword and how to use it.\n"
     ]
    }
   ],
   "source": [
    "src_text = content\n",
    "translated = model.generate(**tokenizer(src_text, return_tensors=\"pt\", padding=True))\n",
    "\n",
    "for t in translated:\n",
    "    print( tokenizer.decode(t, skip_special_tokens=True) )"
   ]
  },
  {
   "cell_type": "code",
   "execution_count": null,
   "id": "0c7150a8",
   "metadata": {},
   "outputs": [],
   "source": []
  }
 ],
 "metadata": {
  "kernelspec": {
   "display_name": "Python 3 (ipykernel)",
   "language": "python",
   "name": "python3"
  },
  "language_info": {
   "codemirror_mode": {
    "name": "ipython",
    "version": 3
   },
   "file_extension": ".py",
   "mimetype": "text/x-python",
   "name": "python",
   "nbconvert_exporter": "python",
   "pygments_lexer": "ipython3",
   "version": "3.10.9"
  }
 },
 "nbformat": 4,
 "nbformat_minor": 5
}
